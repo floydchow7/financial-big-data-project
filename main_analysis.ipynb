{
 "cells": [
  {
   "cell_type": "markdown",
   "metadata": {},
   "source": [
    "## Trading on News and Tweets: A sentiment-driven arbitrage strategy on Dogecoin and TSLA based on local lagged transfer entropy"
   ]
  },
  {
   "cell_type": "markdown",
   "metadata": {},
   "source": [
    "Authors: \n",
    "\n",
    "**Mert Ülgüner**\n",
    "\n",
    "**Zhuofu Zhou**"
   ]
  },
  {
   "cell_type": "markdown",
   "metadata": {},
   "source": [
    "This notebook demonstrates the main part of the project from the course Financial Big Data."
   ]
  },
  {
   "cell_type": "markdown",
   "metadata": {},
   "source": [
    "### 0. Preparation"
   ]
  },
  {
   "cell_type": "markdown",
   "metadata": {},
   "source": [
    "Here we import the necessary backages and model before the analysis."
   ]
  },
  {
   "cell_type": "code",
   "execution_count": 114,
   "metadata": {},
   "outputs": [
    {
     "name": "stdout",
     "output_type": "stream",
     "text": [
      "The autoreload extension is already loaded. To reload it, use:\n",
      "  %reload_ext autoreload\n"
     ]
    }
   ],
   "source": [
    "%load_ext autoreload\n",
    "%autoreload 2\n",
    "\n",
    "import pandas as pd\n",
    "import numpy as np\n",
    "from binance.client import Client\n",
    "import kagglehub\n",
    "import matplotlib.pyplot as plt\n",
    "from tqdm import tqdm\n",
    "import torch\n",
    "from datetime import datetime, timedelta\n",
    "import yfinance as yf\n",
    "from transformers import pipeline\n",
    "from pyinform.transferentropy import transfer_entropy\n",
    "from joblib import Parallel, delayed\n",
    "import time\n",
    "from arch import arch_model\n",
    "import statsmodels.api as sm\n",
    "from utils.helpers import *\n",
    "from utils.pipelines import *\n",
    "from models.classifier import *\n",
    "from utils.calibration import *\n",
    "from utils.visualization import *\n",
    "from utils.constants import Constant"
   ]
  },
  {
   "cell_type": "code",
   "execution_count": 40,
   "metadata": {},
   "outputs": [],
   "source": [
    "C = Constant()\n",
    "Switch = True # Set it to true to run the data prepocessing again\n",
    "model, tokenizer = load_sentiment_model(\"mrm8488/distilroberta-finetuned-financial-news-sentiment-analysis\")\n",
    "def distill_roberta_classify_sentiment(article):\n",
    "    inputs = tokenizer(article, return_tensors=\"pt\", truncation=True, max_length=32)\n",
    "    # Run inference\n",
    "    with torch.no_grad():\n",
    "        outputs = model(**inputs)\n",
    "    # Get maxidx\n",
    "    return int(outputs.logits.argmax() - 1)"
   ]
  },
  {
   "cell_type": "markdown",
   "metadata": {},
   "source": [
    "### 1. Sentiment Analysis for information"
   ]
  },
  {
   "cell_type": "markdown",
   "metadata": {},
   "source": [
    "\n",
    "\n",
    "**Here we start our data processing work to convert the news or tweets to the sentiment**\n",
    "\n",
    "Assume that the dataset of the information is a constant flow, we try to construct a stochastic process on sentiment: use distrillroberta to generate sentiment(positive, neutral, negative) of the news headline and labelled the as (1, 0, -1) scores. Note that the news are always released in two ways: one is that the news are released at **midnight(or non-trading time) in batches**, the others are released during **trading time without batches(flow-released news)**. For batch-released news, average the sentiment score.\n",
    "\n",
    "THe formula for the stochastic process is be written as \n",
    "\n",
    "$$\n",
    "I_t^s = \\frac{1}{|N^s_t|}\\sum_{j} g(f(e_{jt}^{s})), \n",
    "g(x) = \\begin{cases} 1, x = \"Positive\"\\\\\n",
    "0, x = \"Neutral\"\\\\\n",
    "-1, x = \"Negative\"\\\\\n",
    "\\end{cases},\n",
    "\n",
    "f(x) = roBERTa(x),\n",
    "\n",
    "$$\n",
    "\n",
    "$f(x)$ is the pretrained sentiment classifier. $e_{jt}^{s}$ means the $j$-th embedding of the news headline at time $t$ for the asset $s$. $|N^s_t|$ is the number of the information released at time $t$ for asset $s$.\n",
    "\n",
    "**Note**: time $t$ is not the natural time for trading, but it's proxy time interval between the new release, and it differs from asset to asset."
   ]
  },
  {
   "cell_type": "code",
   "execution_count": 22,
   "metadata": {},
   "outputs": [],
   "source": [
    "tsla_news = read_file(f\"{C.raw_data_dir}TSLA_news.parquet\")"
   ]
  },
  {
   "cell_type": "code",
   "execution_count": 36,
   "metadata": {},
   "outputs": [
    {
     "name": "stderr",
     "output_type": "stream",
     "text": [
      "100%|██████████| 10587/10587 [06:33<00:00, 26.92it/s]\n"
     ]
    },
    {
     "name": "stdout",
     "output_type": "stream",
     "text": [
      "The average inference time for sentiment analysis of one news is 37.1478 ms.\n"
     ]
    }
   ],
   "source": [
    "if Switch:\n",
    "    tsla_news = read_file(f\"{C.raw_data_dir}TSLA_news.parquet\")\n",
    "    #Sentiment Analysis on Tesla Stock\"\n",
    "    start_time = time.time()\n",
    "    tqdm.pandas()\n",
    "    tsla_news['Sentiment'] = tsla_news['Article_title'].progress_apply(distill_roberta_classify_sentiment)\n",
    "    end_time = time.time()\n",
    "    print(f'The average inference time for sentiment analysis of one news is {1000*(end_time - start_time)/tsla_news.shape[0]:.4f} ms.')\n",
    "    #Preprocess and write the file\n",
    "    tsla_news = tsla_news.rename({\"Date\":\"date\",\"Article_title\":\"text\"}, axis = 1).filter([\"date\",\"text\",\"Sentiment\"])\n",
    "    tsla_news[\"date\"] = tsla_news[\"date\"].apply(lambda val: pd.to_datetime(val))\n",
    "\n",
    "    #Writing the file\n",
    "    write_file(tsla_news,f\"{C.clean_data_dir}tsla_news_with_sent.csv\")"
   ]
  },
  {
   "cell_type": "code",
   "execution_count": 37,
   "metadata": {},
   "outputs": [
    {
     "name": "stderr",
     "output_type": "stream",
     "text": [
      "100%|██████████| 5904/5904 [03:46<00:00, 26.11it/s]\n"
     ]
    }
   ],
   "source": [
    "if Switch:\n",
    "    tweet_df = read_file(f\"{C.raw_data_dir}elon_musk_tweets.csv\")\n",
    "    # Sentiment Analysis on musk tweet\n",
    "    tweet_df = tweet_df.filter([\"date\", \"text\"])\n",
    "    tqdm.pandas()\n",
    "    tweet_df['Sentiment'] = tweet_df['text'].progress_apply(distill_roberta_classify_sentiment)\n",
    "\n",
    "    # Convert 'date' column to datetime format\n",
    "    tweet_df['date'] = pd.to_datetime(tweet_df['date'])\n",
    "\n",
    "    # Sort DataFrame by datetime\n",
    "    tweet_df = tweet_df.sort_values(by='date', ascending=True).reset_index(drop=True)\n",
    "\n",
    "    write_file(tweet_df,f\"{C.clean_data_dir}musk_tweets_with_sent.csv\")"
   ]
  },
  {
   "cell_type": "markdown",
   "metadata": {},
   "source": [
    "Get the crypto market news data"
   ]
  },
  {
   "cell_type": "code",
   "execution_count": 38,
   "metadata": {},
   "outputs": [
    {
     "name": "stderr",
     "output_type": "stream",
     "text": [
      "100%|██████████| 9278/9278 [06:52<00:00, 22.51it/s]\n"
     ]
    }
   ],
   "source": [
    "if Switch:\n",
    "    crypto_market_news_df = read_file(f\"{C.raw_data_dir}crypto_news.csv\")\n",
    "    #First we get the date and the text and then we filter the subject as \"altcoin\" as Dogecoin is an altcoin\n",
    "    filtered_news_df = crypto_market_news_df[crypto_market_news_df[\"subject\"] == \"altcoin\"].filter([\"date\",\"text\"])\n",
    "    tqdm.pandas()\n",
    "    filtered_news_df['Sentiment'] = filtered_news_df['text'].progress_apply(distill_roberta_classify_sentiment)\n",
    "\n",
    "    #Preprocessing the crypto news data\n",
    "    filtered_news_df[\"date\"] = filtered_news_df[\"date\"].apply(lambda val: pd.to_datetime(val))\n",
    "\n",
    "    #Writing the file\n",
    "    write_file(filtered_news_df, f\"{C.clean_data_dir}crypto_news_with_sent.csv\")"
   ]
  },
  {
   "cell_type": "markdown",
   "metadata": {},
   "source": [
    "Merging the dataframes"
   ]
  },
  {
   "cell_type": "code",
   "execution_count": 41,
   "metadata": {},
   "outputs": [],
   "source": [
    "if Switch:\n",
    "    # Convert 'date' columns to datetime format\n",
    "    filtered_news_df['date'] = pd.to_datetime(filtered_news_df['date'])\n",
    "    tweet_df['date'] = pd.to_datetime(tweet_df['date'])\n",
    "\n",
    "    # Remove timezone information (if any)\n",
    "    filtered_news_df['date'] = filtered_news_df['date'].dt.tz_localize(None)\n",
    "    tweet_df['date'] = tweet_df['date'].dt.tz_localize(None)\n",
    "\n",
    "    # Merge the DataFrames with an indicator\n",
    "    merged_df = pd.concat(\n",
    "        [filtered_news_df, tweet_df],\n",
    "        keys=['Crypto_News', 'Tweet'],  # Add keys to identify the source\n",
    "        names=['Source', 'Index']  # Name the multi-index levels\n",
    "    ).reset_index(level=0)  # Move the 'Source' level to a column\n",
    "\n",
    "    # Sort by date\n",
    "    merged_df = merged_df.sort_values(by='date').reset_index(drop=True)\n",
    "\n",
    "    # Add a 'Source' column to tsla_news\n",
    "    tsla_news['Source'] = 'Tesla_News'\n",
    "\n",
    "    # Convert 'date' column to datetime\n",
    "    tsla_news['date'] = pd.to_datetime(tsla_news['date'])\n",
    "\n",
    "    # Merge the DataFrames\n",
    "    combined_df = pd.concat([merged_df, tsla_news], ignore_index=True)\n",
    "\n",
    "    # Sort by date\n",
    "    combined_df = combined_df.sort_values(by='date').reset_index(drop=True)\n",
    "\n",
    "    #Writing to processed\n",
    "    write_file(combined_df, f\"{C.processed_data_dir}final_df.csv\")\n",
    "\n",
    "    combined_df"
   ]
  },
  {
   "cell_type": "markdown",
   "metadata": {},
   "source": [
    "The average time to conduct a sentiment analysis for one information(e.g. news, twitter posts) is around 7.6ms, which is fast enough in the real-world trading."
   ]
  },
  {
   "cell_type": "markdown",
   "metadata": {},
   "source": [
    "# Trading Strategy Construction"
   ]
  },
  {
   "cell_type": "markdown",
   "metadata": {},
   "source": [
    "Extract the merged market news data to start our main analysis"
   ]
  },
  {
   "cell_type": "code",
   "execution_count": 42,
   "metadata": {},
   "outputs": [
    {
     "data": {
      "text/html": [
       "<div>\n",
       "<style scoped>\n",
       "    .dataframe tbody tr th:only-of-type {\n",
       "        vertical-align: middle;\n",
       "    }\n",
       "\n",
       "    .dataframe tbody tr th {\n",
       "        vertical-align: top;\n",
       "    }\n",
       "\n",
       "    .dataframe thead th {\n",
       "        text-align: right;\n",
       "    }\n",
       "</style>\n",
       "<table border=\"1\" class=\"dataframe\">\n",
       "  <thead>\n",
       "    <tr style=\"text-align: right;\">\n",
       "      <th></th>\n",
       "      <th>Source</th>\n",
       "      <th>date</th>\n",
       "      <th>text</th>\n",
       "      <th>Sentiment</th>\n",
       "    </tr>\n",
       "  </thead>\n",
       "  <tbody>\n",
       "    <tr>\n",
       "      <th>0</th>\n",
       "      <td>Tesla_News</td>\n",
       "      <td>2019-07-01 00:00:00</td>\n",
       "      <td>Tesla shares are trading higher after JMP Secu...</td>\n",
       "      <td>1</td>\n",
       "    </tr>\n",
       "    <tr>\n",
       "      <th>1</th>\n",
       "      <td>Tesla_News</td>\n",
       "      <td>2019-07-01 00:00:00</td>\n",
       "      <td>Tesla's Q2 Delivery Number Could Cause A Big Move</td>\n",
       "      <td>1</td>\n",
       "    </tr>\n",
       "    <tr>\n",
       "      <th>2</th>\n",
       "      <td>Tesla_News</td>\n",
       "      <td>2019-07-01 00:00:00</td>\n",
       "      <td>UPDATE: JMP Reiterates Outperform, $347 Target...</td>\n",
       "      <td>1</td>\n",
       "    </tr>\n",
       "    <tr>\n",
       "      <th>3</th>\n",
       "      <td>Tesla_News</td>\n",
       "      <td>2019-07-01 00:00:00</td>\n",
       "      <td>'Tesla Electric Airplane? Elon Musk sees elect...</td>\n",
       "      <td>0</td>\n",
       "    </tr>\n",
       "    <tr>\n",
       "      <th>4</th>\n",
       "      <td>Tesla_News</td>\n",
       "      <td>2019-07-02 00:00:00</td>\n",
       "      <td>Tesla, Unum Therapeutics Making Big Moves In T...</td>\n",
       "      <td>0</td>\n",
       "    </tr>\n",
       "    <tr>\n",
       "      <th>...</th>\n",
       "      <td>...</td>\n",
       "      <td>...</td>\n",
       "      <td>...</td>\n",
       "      <td>...</td>\n",
       "    </tr>\n",
       "    <tr>\n",
       "      <th>25764</th>\n",
       "      <td>Crypto_News</td>\n",
       "      <td>2023-12-18 20:56:00</td>\n",
       "      <td>BEEG's adoption skyrockets as 37% is minted wi...</td>\n",
       "      <td>1</td>\n",
       "    </tr>\n",
       "    <tr>\n",
       "      <th>25765</th>\n",
       "      <td>Crypto_News</td>\n",
       "      <td>2023-12-18 21:47:07</td>\n",
       "      <td>Here is our weekly collection of digital asset...</td>\n",
       "      <td>0</td>\n",
       "    </tr>\n",
       "    <tr>\n",
       "      <th>25766</th>\n",
       "      <td>Crypto_News</td>\n",
       "      <td>2023-12-18 22:48:00</td>\n",
       "      <td>Tether asserts to have effectively immobilized...</td>\n",
       "      <td>0</td>\n",
       "    </tr>\n",
       "    <tr>\n",
       "      <th>25767</th>\n",
       "      <td>Crypto_News</td>\n",
       "      <td>2023-12-18 23:48:19</td>\n",
       "      <td>The new CEO, Josh Swihart, has been the vice p...</td>\n",
       "      <td>0</td>\n",
       "    </tr>\n",
       "    <tr>\n",
       "      <th>25768</th>\n",
       "      <td>Crypto_News</td>\n",
       "      <td>2023-12-19 06:40:41</td>\n",
       "      <td>Grayscale CEO Michael Sonnenshein believes the...</td>\n",
       "      <td>0</td>\n",
       "    </tr>\n",
       "  </tbody>\n",
       "</table>\n",
       "<p>25769 rows × 4 columns</p>\n",
       "</div>"
      ],
      "text/plain": [
       "            Source                date  \\\n",
       "0       Tesla_News 2019-07-01 00:00:00   \n",
       "1       Tesla_News 2019-07-01 00:00:00   \n",
       "2       Tesla_News 2019-07-01 00:00:00   \n",
       "3       Tesla_News 2019-07-01 00:00:00   \n",
       "4       Tesla_News 2019-07-02 00:00:00   \n",
       "...            ...                 ...   \n",
       "25764  Crypto_News 2023-12-18 20:56:00   \n",
       "25765  Crypto_News 2023-12-18 21:47:07   \n",
       "25766  Crypto_News 2023-12-18 22:48:00   \n",
       "25767  Crypto_News 2023-12-18 23:48:19   \n",
       "25768  Crypto_News 2023-12-19 06:40:41   \n",
       "\n",
       "                                                    text  Sentiment  \n",
       "0      Tesla shares are trading higher after JMP Secu...          1  \n",
       "1      Tesla's Q2 Delivery Number Could Cause A Big Move          1  \n",
       "2      UPDATE: JMP Reiterates Outperform, $347 Target...          1  \n",
       "3      'Tesla Electric Airplane? Elon Musk sees elect...          0  \n",
       "4      Tesla, Unum Therapeutics Making Big Moves In T...          0  \n",
       "...                                                  ...        ...  \n",
       "25764  BEEG's adoption skyrockets as 37% is minted wi...          1  \n",
       "25765  Here is our weekly collection of digital asset...          0  \n",
       "25766  Tether asserts to have effectively immobilized...          0  \n",
       "25767  The new CEO, Josh Swihart, has been the vice p...          0  \n",
       "25768  Grayscale CEO Michael Sonnenshein believes the...          0  \n",
       "\n",
       "[25769 rows x 4 columns]"
      ]
     },
     "execution_count": 42,
     "metadata": {},
     "output_type": "execute_result"
    }
   ],
   "source": [
    "#Merged News data\n",
    "data = read_file(f\"{C.processed_data_dir}final_df.csv\")\n",
    "data"
   ]
  },
  {
   "cell_type": "markdown",
   "metadata": {},
   "source": [
    "# **First Analysis**: TESLA NEWS ON TESLA PRICE"
   ]
  },
  {
   "cell_type": "code",
   "execution_count": 46,
   "metadata": {},
   "outputs": [],
   "source": [
    "#Tesla price data\n",
    "tsla_price = read_file(\"./data/clean/tesla_quotes.csv\")\n",
    "tsla_price = tsla_price[[\"Date\",\"Close\"]].rename({\"Date\":\"date\"}, axis = 1) "
   ]
  },
  {
   "cell_type": "markdown",
   "metadata": {},
   "source": [
    "### 2. Return-data preprocessing\n",
    "\n",
    "#### Now that we have our data set with the sentiments, we want to link it to our stock price\n",
    "\n",
    "Discretize the tick-by-tick data to align with the news-data, by identifying the return of the price. When the batch news are released in non-trading time, assume that the traders in the market will react to the news as soon as the trading time starts, for flow-released news, assume that the market participants will react as soon as the information of the news is understood. There will be **one hyperparameter**:\n",
    "  - The time-lag between the new release and the market reaction: $\\gamma$\n",
    "\n",
    "Set the return of the stock as positive, stable and negative under a threshold and label it as (1,0,-1). Then we construct a stochastic process for stock return.\n",
    "\n",
    "The formula for the stochastic process of the discretized return can be written as \n",
    "\n",
    "$$\n",
    "\\hat{R}_{t}^{s} = h(\\log \\frac{P_{t + 1}^{s}}{P_{t}^{s}}), \n",
    "\n",
    "h(x) = \\begin{cases}1, x > \\gamma \\\\ 0, \\|x\\| \\leq \\gamma \\\\ -1, x < -\\gamma\\end{cases},\n",
    "\n",
    "\\gamma > 0\n",
    "$$\n",
    "\n",
    " - $P_{t}^{s}$ is the price of stock $s$ at proxy time $t$\n",
    " - $(\\log \\frac{P_{t + 1}^{s}}{P_{t}^{s}})$ is the daily log-return\n"
   ]
  },
  {
   "cell_type": "markdown",
   "metadata": {},
   "source": [
    " - News published after 4 PM is assigned to the next trading day\n",
    "\n",
    " - Sentiment data is aggregated by trading day using the mean\n",
    "\n",
    " - Left join with returns_data to retain the time from the sentiment data, which refers to the **proxy time**, the time that one **information** is released."
   ]
  },
  {
   "cell_type": "code",
   "execution_count": 47,
   "metadata": {},
   "outputs": [
    {
     "data": {
      "text/html": [
       "<div>\n",
       "<style scoped>\n",
       "    .dataframe tbody tr th:only-of-type {\n",
       "        vertical-align: middle;\n",
       "    }\n",
       "\n",
       "    .dataframe tbody tr th {\n",
       "        vertical-align: top;\n",
       "    }\n",
       "\n",
       "    .dataframe thead th {\n",
       "        text-align: right;\n",
       "    }\n",
       "</style>\n",
       "<table border=\"1\" class=\"dataframe\">\n",
       "  <thead>\n",
       "    <tr style=\"text-align: right;\">\n",
       "      <th></th>\n",
       "      <th>Trading_date</th>\n",
       "      <th>Sentiment</th>\n",
       "      <th>date</th>\n",
       "      <th>Close</th>\n",
       "    </tr>\n",
       "  </thead>\n",
       "  <tbody>\n",
       "    <tr>\n",
       "      <th>0</th>\n",
       "      <td>2022-05-02</td>\n",
       "      <td>0.176471</td>\n",
       "      <td>2022-05-02</td>\n",
       "      <td>300.980011</td>\n",
       "    </tr>\n",
       "    <tr>\n",
       "      <th>1</th>\n",
       "      <td>2022-05-03</td>\n",
       "      <td>0.320000</td>\n",
       "      <td>2022-05-03</td>\n",
       "      <td>303.083344</td>\n",
       "    </tr>\n",
       "    <tr>\n",
       "      <th>2</th>\n",
       "      <td>2022-05-04</td>\n",
       "      <td>-0.285714</td>\n",
       "      <td>2022-05-04</td>\n",
       "      <td>317.540009</td>\n",
       "    </tr>\n",
       "    <tr>\n",
       "      <th>3</th>\n",
       "      <td>2022-05-05</td>\n",
       "      <td>-0.333333</td>\n",
       "      <td>2022-05-05</td>\n",
       "      <td>291.093323</td>\n",
       "    </tr>\n",
       "    <tr>\n",
       "      <th>4</th>\n",
       "      <td>2022-05-06</td>\n",
       "      <td>-0.105263</td>\n",
       "      <td>2022-05-06</td>\n",
       "      <td>288.549988</td>\n",
       "    </tr>\n",
       "  </tbody>\n",
       "</table>\n",
       "</div>"
      ],
      "text/plain": [
       "  Trading_date  Sentiment       date       Close\n",
       "0   2022-05-02   0.176471 2022-05-02  300.980011\n",
       "1   2022-05-03   0.320000 2022-05-03  303.083344\n",
       "2   2022-05-04  -0.285714 2022-05-04  317.540009\n",
       "3   2022-05-05  -0.333333 2022-05-05  291.093323\n",
       "4   2022-05-06  -0.105263 2022-05-06  288.549988"
      ]
     },
     "execution_count": 47,
     "metadata": {},
     "output_type": "execute_result"
    }
   ],
   "source": [
    "#Sentiment data is the tesla news sentiment data\n",
    "sentiment_data = data[data[\"Source\"] == \"Tesla_News\"]\n",
    "\n",
    "intermediate_data = process_and_merge_data(tsla_price,sentiment_data)\n",
    "\n",
    "intermediate_data['date'] = pd.to_datetime(intermediate_data['date'])\n",
    "\n",
    "#Cutoff value for Tesla\n",
    "intermediate_data = intermediate_data[intermediate_data['date'] >= pd.Timestamp('2022-05-02')].reset_index(drop = True)\n",
    "\n",
    "intermediate_data.head()"
   ]
  },
  {
   "cell_type": "code",
   "execution_count": 48,
   "metadata": {},
   "outputs": [
    {
     "data": {
      "text/html": [
       "<div>\n",
       "<style scoped>\n",
       "    .dataframe tbody tr th:only-of-type {\n",
       "        vertical-align: middle;\n",
       "    }\n",
       "\n",
       "    .dataframe tbody tr th {\n",
       "        vertical-align: top;\n",
       "    }\n",
       "\n",
       "    .dataframe thead th {\n",
       "        text-align: right;\n",
       "    }\n",
       "</style>\n",
       "<table border=\"1\" class=\"dataframe\">\n",
       "  <thead>\n",
       "    <tr style=\"text-align: right;\">\n",
       "      <th></th>\n",
       "      <th>Trading_date</th>\n",
       "      <th>Sentiment</th>\n",
       "      <th>date</th>\n",
       "      <th>Close</th>\n",
       "      <th>Log_Return</th>\n",
       "    </tr>\n",
       "  </thead>\n",
       "  <tbody>\n",
       "    <tr>\n",
       "      <th>1</th>\n",
       "      <td>2022-05-03</td>\n",
       "      <td>0.320000</td>\n",
       "      <td>2022-05-03</td>\n",
       "      <td>303.083344</td>\n",
       "      <td>0.006964</td>\n",
       "    </tr>\n",
       "    <tr>\n",
       "      <th>2</th>\n",
       "      <td>2022-05-04</td>\n",
       "      <td>-0.285714</td>\n",
       "      <td>2022-05-04</td>\n",
       "      <td>317.540009</td>\n",
       "      <td>0.046596</td>\n",
       "    </tr>\n",
       "    <tr>\n",
       "      <th>3</th>\n",
       "      <td>2022-05-05</td>\n",
       "      <td>-0.333333</td>\n",
       "      <td>2022-05-05</td>\n",
       "      <td>291.093323</td>\n",
       "      <td>-0.086960</td>\n",
       "    </tr>\n",
       "    <tr>\n",
       "      <th>4</th>\n",
       "      <td>2022-05-06</td>\n",
       "      <td>-0.105263</td>\n",
       "      <td>2022-05-06</td>\n",
       "      <td>288.549988</td>\n",
       "      <td>-0.008776</td>\n",
       "    </tr>\n",
       "    <tr>\n",
       "      <th>5</th>\n",
       "      <td>2022-05-09</td>\n",
       "      <td>-0.272727</td>\n",
       "      <td>2022-05-09</td>\n",
       "      <td>262.369995</td>\n",
       "      <td>-0.095113</td>\n",
       "    </tr>\n",
       "  </tbody>\n",
       "</table>\n",
       "</div>"
      ],
      "text/plain": [
       "  Trading_date  Sentiment       date       Close  Log_Return\n",
       "1   2022-05-03   0.320000 2022-05-03  303.083344    0.006964\n",
       "2   2022-05-04  -0.285714 2022-05-04  317.540009    0.046596\n",
       "3   2022-05-05  -0.333333 2022-05-05  291.093323   -0.086960\n",
       "4   2022-05-06  -0.105263 2022-05-06  288.549988   -0.008776\n",
       "5   2022-05-09  -0.272727 2022-05-09  262.369995   -0.095113"
      ]
     },
     "execution_count": 48,
     "metadata": {},
     "output_type": "execute_result"
    }
   ],
   "source": [
    "#Calculating log returns and then inspecting the return dataframe \n",
    "intermediate_data = calculate_log_returns(intermediate_data)\n",
    "intermediate_data.head()"
   ]
  },
  {
   "cell_type": "code",
   "execution_count": 49,
   "metadata": {},
   "outputs": [],
   "source": [
    "write_file(intermediate_data,f\"{C.processed_data_dir}input_df_analysis_1(Tesla_News_on_Tesla_Price).parquet\")"
   ]
  },
  {
   "cell_type": "markdown",
   "metadata": {},
   "source": [
    "### 3.Get transfer entropy\n",
    "\n",
    "After we construct on the two stochastic processes $I_{t}^{s}$ and $R_{t}^{s}$, calculate the transfer entropy of the two random processes\n",
    "\n",
    "Before we move on, we **discretize** the sentiment scores to get into the value range (-1,0,1) as we took the average when converting them into daily scores. Therefore, we are going to have an additional parameter when classifying:\n",
    "\n",
    "$$\n",
    "\\hat{I}_t^s =\n",
    "\\begin{cases} \n",
    "1, & \\hat{I}_t^s > \\beta \\quad (\\text{Positive sentiment}) \\\\\\\n",
    "0, & -\\beta \\leq I_t^s \\leq \\beta \\quad (\\text{Neutral sentiment}) \\\\\\\n",
    "-1, & I_t^s < -\\beta \\quad (\\text{Negative sentiment})\n",
    "\\end{cases}\n",
    "$$\n",
    "\n",
    "The transfer entropy is revised to be a **lagged-$\\Delta$ conditional/local transfer entropy**, which $\\Delta$ is the lagged time for the market participants to react on the news release, and $\\lambda$ is the fixed time window on the local/conditional entropy.\n",
    "\n",
    "$$\n",
    "TE(\\hat{I}_{t}^{s}, \\hat{R}_{t+\\Delta}^{s} |\\lambda)\n",
    "$$\n",
    "\n",
    "Mapping the states (-1,0,1) so that there are no negative-valued states don't change the result of the transfer entropy **(detail this part)**"
   ]
  },
  {
   "cell_type": "markdown",
   "metadata": {},
   "source": [
    "### 4. Design trading strategy\n",
    "\n",
    "Based on the sentiment process $\\hat{I}_{t}^{s}$ and the transfer entropy $TE(\\hat{I}_{t}^{s}, \\hat{R}_{t+\\Delta}^{s} |\\lambda)$ , design a statistic arbitrage trading strategy **(only one idea)** as follows:\n",
    "\n",
    "````python\n",
    "if (sentiment_score > 0) & (TE>threshold):\n",
    "    buy stock at time t + delta - 1\n",
    "    sell stock at time t + delta\n",
    "elif (sentiment_score < 0) & (TE>threshold):\n",
    "    short sell stock at time t + delta - 1\n",
    "    buy back stock at time t + delta\n",
    "else:\n",
    "    continue\n",
    "````\n",
    "\n",
    "The ``threshold`` can be written as $\\alpha$ for further demonstration."
   ]
  },
  {
   "cell_type": "markdown",
   "metadata": {},
   "source": [
    "### 5. Calibration and train-validation-test split\n",
    "\n",
    "Based on the arbitrage strategy, we have several hyperparameters to be calibrated: $\\delta, \\gamma, \\Delta, \\lambda, \\alpha$. The hyperparameters should be calibrated using the in-sample training set and validation set, and perform stimulation trading on the out-of-sample test set. The size of the whole train-validation-test set should be fixed and moved along the time with the moving interval to be the exact size of the test set, only using the most recent data and construct a trading performance over the whole dataframe.\n",
    "\n",
    "Within one single train-validation-test set, the best hyperparameters for each asset $s$ are found based on the Sharpe ratio of the strategy in the **validation set**. The way of finding the best hyperparameters should be done by grid search."
   ]
  },
  {
   "cell_type": "code",
   "execution_count": 51,
   "metadata": {},
   "outputs": [
    {
     "name": "stderr",
     "output_type": "stream",
     "text": [
      "Rolling Calibration (One Bar): 100%|██████████| 310/310 [02:10<00:00,  2.37it/s]\n"
     ]
    }
   ],
   "source": [
    "# Example usage:\n",
    "transformations = []  # if you have extra steps to do outside the param search\n",
    "initial_params = {\n",
    "    'gamma': 0.005,\n",
    "    'beta': 0.3,\n",
    "    'delta': 1,\n",
    "    'lambda': 10,\n",
    "    'alpha': 0.2\n",
    "}\n",
    "\n",
    "\n",
    "\n",
    "summary_df_1 = rolling_calibration_single_bar_summary(\n",
    "    data=intermediate_data,\n",
    "    transformations=transformations,\n",
    "    initial_params=initial_params,\n",
    "    gamma_values = [0.005, 0.01, 0.015],\n",
    "    beta_values = [0.3, 0.5, 0.7],\n",
    "    delta_values = [1, 2, 5],\n",
    "    lambda_values = [5, 10, 15],\n",
    "    alpha_values = [0.1, 0.2, 0.5],\n",
    "    window_size=100,\n",
    "    step_size=1,\n",
    "    train_ratio=0.6,\n",
    "    val_ratio=0.2,\n",
    "    test_ratio=0.2,\n",
    "    optimize_params_func=optimize_params_func_with_parallelization\n",
    ")"
   ]
  },
  {
   "cell_type": "code",
   "execution_count": 53,
   "metadata": {},
   "outputs": [
    {
     "data": {
      "text/html": [
       "<div>\n",
       "<style scoped>\n",
       "    .dataframe tbody tr th:only-of-type {\n",
       "        vertical-align: middle;\n",
       "    }\n",
       "\n",
       "    .dataframe tbody tr th {\n",
       "        vertical-align: top;\n",
       "    }\n",
       "\n",
       "    .dataframe thead th {\n",
       "        text-align: right;\n",
       "    }\n",
       "</style>\n",
       "<table border=\"1\" class=\"dataframe\">\n",
       "  <thead>\n",
       "    <tr style=\"text-align: right;\">\n",
       "      <th></th>\n",
       "      <th>start_idx</th>\n",
       "      <th>best_params</th>\n",
       "      <th>best_val_sharpe</th>\n",
       "      <th>test_sharpe</th>\n",
       "      <th>test_mean_return</th>\n",
       "      <th>test_cum_return</th>\n",
       "      <th>last_time_step_return</th>\n",
       "    </tr>\n",
       "  </thead>\n",
       "  <tbody>\n",
       "    <tr>\n",
       "      <th>0</th>\n",
       "      <td>0</td>\n",
       "      <td>{'gamma': 0.005, 'beta': 0.3, 'delta': 5, 'lam...</td>\n",
       "      <td>0.223607</td>\n",
       "      <td>-0.213483</td>\n",
       "      <td>-0.001246</td>\n",
       "      <td>-0.024950</td>\n",
       "      <td>1.000000</td>\n",
       "    </tr>\n",
       "    <tr>\n",
       "      <th>1</th>\n",
       "      <td>1</td>\n",
       "      <td>{'gamma': 0.01, 'beta': 0.3, 'delta': 2, 'lamb...</td>\n",
       "      <td>0.292407</td>\n",
       "      <td>0.188954</td>\n",
       "      <td>0.001516</td>\n",
       "      <td>0.030137</td>\n",
       "      <td>1.000000</td>\n",
       "    </tr>\n",
       "    <tr>\n",
       "      <th>2</th>\n",
       "      <td>2</td>\n",
       "      <td>{'gamma': 0.01, 'beta': 0.3, 'delta': 2, 'lamb...</td>\n",
       "      <td>0.292407</td>\n",
       "      <td>-0.289775</td>\n",
       "      <td>-0.000254</td>\n",
       "      <td>-0.005073</td>\n",
       "      <td>1.000000</td>\n",
       "    </tr>\n",
       "    <tr>\n",
       "      <th>3</th>\n",
       "      <td>3</td>\n",
       "      <td>{'gamma': 0.01, 'beta': 0.3, 'delta': 1, 'lamb...</td>\n",
       "      <td>0.292467</td>\n",
       "      <td>-0.318906</td>\n",
       "      <td>-0.002093</td>\n",
       "      <td>-0.041440</td>\n",
       "      <td>1.017362</td>\n",
       "    </tr>\n",
       "    <tr>\n",
       "      <th>4</th>\n",
       "      <td>4</td>\n",
       "      <td>{'gamma': 0.01, 'beta': 0.3, 'delta': 1, 'lamb...</td>\n",
       "      <td>0.340906</td>\n",
       "      <td>-0.318906</td>\n",
       "      <td>-0.002093</td>\n",
       "      <td>-0.041440</td>\n",
       "      <td>1.000000</td>\n",
       "    </tr>\n",
       "  </tbody>\n",
       "</table>\n",
       "</div>"
      ],
      "text/plain": [
       "   start_idx                                        best_params  \\\n",
       "0          0  {'gamma': 0.005, 'beta': 0.3, 'delta': 5, 'lam...   \n",
       "1          1  {'gamma': 0.01, 'beta': 0.3, 'delta': 2, 'lamb...   \n",
       "2          2  {'gamma': 0.01, 'beta': 0.3, 'delta': 2, 'lamb...   \n",
       "3          3  {'gamma': 0.01, 'beta': 0.3, 'delta': 1, 'lamb...   \n",
       "4          4  {'gamma': 0.01, 'beta': 0.3, 'delta': 1, 'lamb...   \n",
       "\n",
       "   best_val_sharpe  test_sharpe  test_mean_return  test_cum_return  \\\n",
       "0         0.223607    -0.213483         -0.001246        -0.024950   \n",
       "1         0.292407     0.188954          0.001516         0.030137   \n",
       "2         0.292407    -0.289775         -0.000254        -0.005073   \n",
       "3         0.292467    -0.318906         -0.002093        -0.041440   \n",
       "4         0.340906    -0.318906         -0.002093        -0.041440   \n",
       "\n",
       "   last_time_step_return  \n",
       "0               1.000000  \n",
       "1               1.000000  \n",
       "2               1.000000  \n",
       "3               1.017362  \n",
       "4               1.000000  "
      ]
     },
     "execution_count": 53,
     "metadata": {},
     "output_type": "execute_result"
    }
   ],
   "source": [
    "summary_df_1.head()"
   ]
  },
  {
   "cell_type": "code",
   "execution_count": 54,
   "metadata": {},
   "outputs": [],
   "source": [
    "write_file(summary_df_1, f\"{C.processed_data_dir}summary_df_analysis_1(Tesla_News_on_Tesla_Price).parquet\")"
   ]
  },
  {
   "cell_type": "markdown",
   "metadata": {},
   "source": [
    "# **DOGE COIN ANALYSIS**"
   ]
  },
  {
   "cell_type": "markdown",
   "metadata": {},
   "source": [
    "## Second Analysis: **CRYPTO NEWS ON DOGECOIN PRICE**"
   ]
  },
  {
   "cell_type": "markdown",
   "metadata": {},
   "source": [
    "Get the return data for DOGECOIN"
   ]
  },
  {
   "cell_type": "code",
   "execution_count": 80,
   "metadata": {},
   "outputs": [],
   "source": [
    "#Merged News data\n",
    "data = read_file(f\"{C.processed_data_dir}final_df.csv\")\n",
    "#Doge price data\n",
    "doge_price = read_file(f\"{C.clean_data_dir}doge_price.parquet\").rename({\"Date\":\"date\"}, axis = 1)\n",
    "#Sentiment data is the tesla news sentiment data\n",
    "sentiment_data = data[data[\"Source\"] == \"Crypto_News\"]"
   ]
  },
  {
   "cell_type": "code",
   "execution_count": 84,
   "metadata": {},
   "outputs": [
    {
     "name": "stderr",
     "output_type": "stream",
     "text": [
      "c:\\Users\\floyd\\Desktop\\financial-big-data-project\\utils\\helpers.py:63: FutureWarning: 'T' is deprecated and will be removed in a future version, please use 'min' instead.\n",
      "  sentiment_data['date'] = sentiment_data['date'].dt.ceil('T')  # 'T' stands for minute\n",
      "c:\\Users\\floyd\\Desktop\\financial-big-data-project\\utils\\helpers.py:63: SettingWithCopyWarning: \n",
      "A value is trying to be set on a copy of a slice from a DataFrame.\n",
      "Try using .loc[row_indexer,col_indexer] = value instead\n",
      "\n",
      "See the caveats in the documentation: https://pandas.pydata.org/pandas-docs/stable/user_guide/indexing.html#returning-a-view-versus-a-copy\n",
      "  sentiment_data['date'] = sentiment_data['date'].dt.ceil('T')  # 'T' stands for minute\n"
     ]
    },
    {
     "data": {
      "text/html": [
       "<div>\n",
       "<style scoped>\n",
       "    .dataframe tbody tr th:only-of-type {\n",
       "        vertical-align: middle;\n",
       "    }\n",
       "\n",
       "    .dataframe tbody tr th {\n",
       "        vertical-align: top;\n",
       "    }\n",
       "\n",
       "    .dataframe thead th {\n",
       "        text-align: right;\n",
       "    }\n",
       "</style>\n",
       "<table border=\"1\" class=\"dataframe\">\n",
       "  <thead>\n",
       "    <tr style=\"text-align: right;\">\n",
       "      <th></th>\n",
       "      <th>date</th>\n",
       "      <th>Sentiment</th>\n",
       "      <th>Open</th>\n",
       "      <th>Log_Return</th>\n",
       "    </tr>\n",
       "  </thead>\n",
       "  <tbody>\n",
       "    <tr>\n",
       "      <th>1</th>\n",
       "      <td>2021-11-04 16:32:00+00:00</td>\n",
       "      <td>0.0</td>\n",
       "      <td>0.2571</td>\n",
       "      <td>-0.017352</td>\n",
       "    </tr>\n",
       "    <tr>\n",
       "      <th>2</th>\n",
       "      <td>2021-11-05 13:37:00+00:00</td>\n",
       "      <td>0.0</td>\n",
       "      <td>0.2630</td>\n",
       "      <td>0.022689</td>\n",
       "    </tr>\n",
       "    <tr>\n",
       "      <th>3</th>\n",
       "      <td>2021-11-05 15:39:00+00:00</td>\n",
       "      <td>-1.0</td>\n",
       "      <td>0.2598</td>\n",
       "      <td>-0.012242</td>\n",
       "    </tr>\n",
       "    <tr>\n",
       "      <th>4</th>\n",
       "      <td>2021-11-08 14:44:00+00:00</td>\n",
       "      <td>1.0</td>\n",
       "      <td>0.2761</td>\n",
       "      <td>0.060851</td>\n",
       "    </tr>\n",
       "    <tr>\n",
       "      <th>5</th>\n",
       "      <td>2021-11-08 20:00:00+00:00</td>\n",
       "      <td>0.0</td>\n",
       "      <td>0.2815</td>\n",
       "      <td>0.019369</td>\n",
       "    </tr>\n",
       "  </tbody>\n",
       "</table>\n",
       "</div>"
      ],
      "text/plain": [
       "                       date  Sentiment    Open  Log_Return\n",
       "1 2021-11-04 16:32:00+00:00        0.0  0.2571   -0.017352\n",
       "2 2021-11-05 13:37:00+00:00        0.0  0.2630    0.022689\n",
       "3 2021-11-05 15:39:00+00:00       -1.0  0.2598   -0.012242\n",
       "4 2021-11-08 14:44:00+00:00        1.0  0.2761    0.060851\n",
       "5 2021-11-08 20:00:00+00:00        0.0  0.2815    0.019369"
      ]
     },
     "execution_count": 84,
     "metadata": {},
     "output_type": "execute_result"
    }
   ],
   "source": [
    "#Merged News data\n",
    "data = read_file(f\"{C.processed_data_dir}final_df.csv\")\n",
    "#Doge price data\n",
    "doge_price = read_file(f\"{C.clean_data_dir}doge_price.parquet\").rename({\"Date\":\"date\"}, axis = 1)\n",
    "#Sentiment data is the tesla news sentiment data\n",
    "sentiment_data = data[data[\"Source\"] == \"Crypto_News\"]\n",
    "\n",
    "merged_df = process_and_merge_data_continous_price(sentiment_data, doge_price)\n",
    "\n",
    "#Calculating log returns and then inspecting the return dataframe \n",
    "intermediate_data = calculate_log_returns(merged_df,'Open')\n",
    "intermediate_data.head()"
   ]
  },
  {
   "cell_type": "code",
   "execution_count": 85,
   "metadata": {},
   "outputs": [],
   "source": [
    "write_file(intermediate_data,f\"{C.processed_data_dir}input_df_analysis_2(Crypto_News_on_Doge_Price).parquet\")"
   ]
  },
  {
   "cell_type": "code",
   "execution_count": 86,
   "metadata": {},
   "outputs": [
    {
     "name": "stderr",
     "output_type": "stream",
     "text": [
      "Rolling Calibration (One Bar): 100%|██████████| 8191/8191 [1:07:28<00:00,  2.02it/s]\n"
     ]
    }
   ],
   "source": [
    "# Example usage:\n",
    "transformations = []  # if you have extra steps to do outside the param search\n",
    "initial_params = {\n",
    "    'gamma': 0.00015,\n",
    "    'beta': 0.3,\n",
    "    'delta': 1,\n",
    "    'lambda': 30,\n",
    "    'alpha': 0.1\n",
    "}\n",
    "\n",
    "summary_df_2 = rolling_calibration_single_bar_summary(\n",
    "    data=intermediate_data,\n",
    "    transformations=transformations,\n",
    "    initial_params=initial_params,\n",
    "    gamma_values = [0.0003,0.001],\n",
    "    beta_values = [0.3,0.7],\n",
    "    delta_values = [5,10],\n",
    "    lambda_values = [30,60],\n",
    "    alpha_values = [0.1,0.5],\n",
    "    window_size=1000,\n",
    "    step_size=1,\n",
    "    train_ratio=0.6,\n",
    "    val_ratio=0.2,\n",
    "    test_ratio=0.2,\n",
    "    optimize_params_func=optimize_params_func_with_parallelization\n",
    ")"
   ]
  },
  {
   "cell_type": "code",
   "execution_count": 87,
   "metadata": {},
   "outputs": [
    {
     "data": {
      "text/html": [
       "<div>\n",
       "<style scoped>\n",
       "    .dataframe tbody tr th:only-of-type {\n",
       "        vertical-align: middle;\n",
       "    }\n",
       "\n",
       "    .dataframe tbody tr th {\n",
       "        vertical-align: top;\n",
       "    }\n",
       "\n",
       "    .dataframe thead th {\n",
       "        text-align: right;\n",
       "    }\n",
       "</style>\n",
       "<table border=\"1\" class=\"dataframe\">\n",
       "  <thead>\n",
       "    <tr style=\"text-align: right;\">\n",
       "      <th></th>\n",
       "      <th>start_idx</th>\n",
       "      <th>best_params</th>\n",
       "      <th>best_val_sharpe</th>\n",
       "      <th>test_sharpe</th>\n",
       "      <th>test_mean_return</th>\n",
       "      <th>test_cum_return</th>\n",
       "      <th>last_time_step_return</th>\n",
       "    </tr>\n",
       "  </thead>\n",
       "  <tbody>\n",
       "    <tr>\n",
       "      <th>0</th>\n",
       "      <td>0</td>\n",
       "      <td>{'gamma': 0.0003, 'beta': 0.3, 'delta': 5, 'la...</td>\n",
       "      <td>0.080945</td>\n",
       "      <td>0.023112</td>\n",
       "      <td>0.000060</td>\n",
       "      <td>0.011356</td>\n",
       "      <td>1.000000</td>\n",
       "    </tr>\n",
       "    <tr>\n",
       "      <th>1</th>\n",
       "      <td>1</td>\n",
       "      <td>{'gamma': 0.0003, 'beta': 0.3, 'delta': 5, 'la...</td>\n",
       "      <td>0.124696</td>\n",
       "      <td>0.023112</td>\n",
       "      <td>0.000060</td>\n",
       "      <td>0.011356</td>\n",
       "      <td>1.000000</td>\n",
       "    </tr>\n",
       "    <tr>\n",
       "      <th>2</th>\n",
       "      <td>2</td>\n",
       "      <td>{'gamma': 0.0003, 'beta': 0.3, 'delta': 5, 'la...</td>\n",
       "      <td>0.124696</td>\n",
       "      <td>0.025968</td>\n",
       "      <td>0.000067</td>\n",
       "      <td>0.012841</td>\n",
       "      <td>1.000000</td>\n",
       "    </tr>\n",
       "    <tr>\n",
       "      <th>3</th>\n",
       "      <td>3</td>\n",
       "      <td>{'gamma': 0.0003, 'beta': 0.3, 'delta': 5, 'la...</td>\n",
       "      <td>0.124696</td>\n",
       "      <td>0.025968</td>\n",
       "      <td>0.000067</td>\n",
       "      <td>0.012841</td>\n",
       "      <td>1.000000</td>\n",
       "    </tr>\n",
       "    <tr>\n",
       "      <th>4</th>\n",
       "      <td>4</td>\n",
       "      <td>{'gamma': 0.0003, 'beta': 0.3, 'delta': 5, 'la...</td>\n",
       "      <td>0.124696</td>\n",
       "      <td>0.007741</td>\n",
       "      <td>0.000019</td>\n",
       "      <td>0.003247</td>\n",
       "      <td>1.000000</td>\n",
       "    </tr>\n",
       "    <tr>\n",
       "      <th>...</th>\n",
       "      <td>...</td>\n",
       "      <td>...</td>\n",
       "      <td>...</td>\n",
       "      <td>...</td>\n",
       "      <td>...</td>\n",
       "      <td>...</td>\n",
       "      <td>...</td>\n",
       "    </tr>\n",
       "    <tr>\n",
       "      <th>8186</th>\n",
       "      <td>8186</td>\n",
       "      <td>{'gamma': 0.001, 'beta': 0.3, 'delta': 10, 'la...</td>\n",
       "      <td>0.117846</td>\n",
       "      <td>-0.037364</td>\n",
       "      <td>-0.000207</td>\n",
       "      <td>-0.043570</td>\n",
       "      <td>0.996808</td>\n",
       "    </tr>\n",
       "    <tr>\n",
       "      <th>8187</th>\n",
       "      <td>8187</td>\n",
       "      <td>{'gamma': 0.001, 'beta': 0.3, 'delta': 10, 'la...</td>\n",
       "      <td>0.117846</td>\n",
       "      <td>-0.043473</td>\n",
       "      <td>-0.000244</td>\n",
       "      <td>-0.050673</td>\n",
       "      <td>1.014433</td>\n",
       "    </tr>\n",
       "    <tr>\n",
       "      <th>8188</th>\n",
       "      <td>8188</td>\n",
       "      <td>{'gamma': 0.001, 'beta': 0.3, 'delta': 10, 'la...</td>\n",
       "      <td>0.117846</td>\n",
       "      <td>-0.047735</td>\n",
       "      <td>-0.000268</td>\n",
       "      <td>-0.055254</td>\n",
       "      <td>1.003715</td>\n",
       "    </tr>\n",
       "    <tr>\n",
       "      <th>8189</th>\n",
       "      <td>8189</td>\n",
       "      <td>{'gamma': 0.001, 'beta': 0.3, 'delta': 10, 'la...</td>\n",
       "      <td>0.109797</td>\n",
       "      <td>-0.079780</td>\n",
       "      <td>-0.000416</td>\n",
       "      <td>-0.082290</td>\n",
       "      <td>1.000000</td>\n",
       "    </tr>\n",
       "    <tr>\n",
       "      <th>8190</th>\n",
       "      <td>8190</td>\n",
       "      <td>{'gamma': 0.001, 'beta': 0.3, 'delta': 10, 'la...</td>\n",
       "      <td>0.106665</td>\n",
       "      <td>-0.067549</td>\n",
       "      <td>-0.000357</td>\n",
       "      <td>-0.071473</td>\n",
       "      <td>0.988350</td>\n",
       "    </tr>\n",
       "  </tbody>\n",
       "</table>\n",
       "<p>8191 rows × 7 columns</p>\n",
       "</div>"
      ],
      "text/plain": [
       "      start_idx                                        best_params  \\\n",
       "0             0  {'gamma': 0.0003, 'beta': 0.3, 'delta': 5, 'la...   \n",
       "1             1  {'gamma': 0.0003, 'beta': 0.3, 'delta': 5, 'la...   \n",
       "2             2  {'gamma': 0.0003, 'beta': 0.3, 'delta': 5, 'la...   \n",
       "3             3  {'gamma': 0.0003, 'beta': 0.3, 'delta': 5, 'la...   \n",
       "4             4  {'gamma': 0.0003, 'beta': 0.3, 'delta': 5, 'la...   \n",
       "...         ...                                                ...   \n",
       "8186       8186  {'gamma': 0.001, 'beta': 0.3, 'delta': 10, 'la...   \n",
       "8187       8187  {'gamma': 0.001, 'beta': 0.3, 'delta': 10, 'la...   \n",
       "8188       8188  {'gamma': 0.001, 'beta': 0.3, 'delta': 10, 'la...   \n",
       "8189       8189  {'gamma': 0.001, 'beta': 0.3, 'delta': 10, 'la...   \n",
       "8190       8190  {'gamma': 0.001, 'beta': 0.3, 'delta': 10, 'la...   \n",
       "\n",
       "      best_val_sharpe  test_sharpe  test_mean_return  test_cum_return  \\\n",
       "0            0.080945     0.023112          0.000060         0.011356   \n",
       "1            0.124696     0.023112          0.000060         0.011356   \n",
       "2            0.124696     0.025968          0.000067         0.012841   \n",
       "3            0.124696     0.025968          0.000067         0.012841   \n",
       "4            0.124696     0.007741          0.000019         0.003247   \n",
       "...               ...          ...               ...              ...   \n",
       "8186         0.117846    -0.037364         -0.000207        -0.043570   \n",
       "8187         0.117846    -0.043473         -0.000244        -0.050673   \n",
       "8188         0.117846    -0.047735         -0.000268        -0.055254   \n",
       "8189         0.109797    -0.079780         -0.000416        -0.082290   \n",
       "8190         0.106665    -0.067549         -0.000357        -0.071473   \n",
       "\n",
       "      last_time_step_return  \n",
       "0                  1.000000  \n",
       "1                  1.000000  \n",
       "2                  1.000000  \n",
       "3                  1.000000  \n",
       "4                  1.000000  \n",
       "...                     ...  \n",
       "8186               0.996808  \n",
       "8187               1.014433  \n",
       "8188               1.003715  \n",
       "8189               1.000000  \n",
       "8190               0.988350  \n",
       "\n",
       "[8191 rows x 7 columns]"
      ]
     },
     "execution_count": 87,
     "metadata": {},
     "output_type": "execute_result"
    }
   ],
   "source": [
    "summary_df_2"
   ]
  },
  {
   "cell_type": "code",
   "execution_count": 88,
   "metadata": {},
   "outputs": [],
   "source": [
    "write_file(summary_df_2, f\"{C.processed_data_dir}ESS_summary_df_analysis_2(Crypto_News_on_Doge_Price).parquet\")"
   ]
  },
  {
   "cell_type": "markdown",
   "metadata": {},
   "source": [
    "## Third Analysis: **Elon's Tweets added to Crypto NEWS on DOGE**"
   ]
  },
  {
   "cell_type": "code",
   "execution_count": 89,
   "metadata": {},
   "outputs": [
    {
     "name": "stderr",
     "output_type": "stream",
     "text": [
      "c:\\Users\\floyd\\Desktop\\financial-big-data-project\\utils\\helpers.py:63: FutureWarning: 'T' is deprecated and will be removed in a future version, please use 'min' instead.\n",
      "  sentiment_data['date'] = sentiment_data['date'].dt.ceil('T')  # 'T' stands for minute\n",
      "c:\\Users\\floyd\\Desktop\\financial-big-data-project\\utils\\helpers.py:63: SettingWithCopyWarning: \n",
      "A value is trying to be set on a copy of a slice from a DataFrame.\n",
      "Try using .loc[row_indexer,col_indexer] = value instead\n",
      "\n",
      "See the caveats in the documentation: https://pandas.pydata.org/pandas-docs/stable/user_guide/indexing.html#returning-a-view-versus-a-copy\n",
      "  sentiment_data['date'] = sentiment_data['date'].dt.ceil('T')  # 'T' stands for minute\n"
     ]
    },
    {
     "data": {
      "text/html": [
       "<div>\n",
       "<style scoped>\n",
       "    .dataframe tbody tr th:only-of-type {\n",
       "        vertical-align: middle;\n",
       "    }\n",
       "\n",
       "    .dataframe tbody tr th {\n",
       "        vertical-align: top;\n",
       "    }\n",
       "\n",
       "    .dataframe thead th {\n",
       "        text-align: right;\n",
       "    }\n",
       "</style>\n",
       "<table border=\"1\" class=\"dataframe\">\n",
       "  <thead>\n",
       "    <tr style=\"text-align: right;\">\n",
       "      <th></th>\n",
       "      <th>date</th>\n",
       "      <th>Sentiment</th>\n",
       "      <th>Open</th>\n",
       "      <th>Log_Return</th>\n",
       "    </tr>\n",
       "  </thead>\n",
       "  <tbody>\n",
       "    <tr>\n",
       "      <th>1</th>\n",
       "      <td>2021-11-04 16:32:00+00:00</td>\n",
       "      <td>0.0</td>\n",
       "      <td>0.2571</td>\n",
       "      <td>-0.017352</td>\n",
       "    </tr>\n",
       "    <tr>\n",
       "      <th>2</th>\n",
       "      <td>2021-11-05 13:37:00+00:00</td>\n",
       "      <td>0.0</td>\n",
       "      <td>0.2630</td>\n",
       "      <td>0.022689</td>\n",
       "    </tr>\n",
       "    <tr>\n",
       "      <th>3</th>\n",
       "      <td>2021-11-05 15:39:00+00:00</td>\n",
       "      <td>-1.0</td>\n",
       "      <td>0.2598</td>\n",
       "      <td>-0.012242</td>\n",
       "    </tr>\n",
       "    <tr>\n",
       "      <th>4</th>\n",
       "      <td>2021-11-08 14:44:00+00:00</td>\n",
       "      <td>1.0</td>\n",
       "      <td>0.2761</td>\n",
       "      <td>0.060851</td>\n",
       "    </tr>\n",
       "    <tr>\n",
       "      <th>5</th>\n",
       "      <td>2021-11-08 20:00:00+00:00</td>\n",
       "      <td>0.0</td>\n",
       "      <td>0.2815</td>\n",
       "      <td>0.019369</td>\n",
       "    </tr>\n",
       "  </tbody>\n",
       "</table>\n",
       "</div>"
      ],
      "text/plain": [
       "                       date  Sentiment    Open  Log_Return\n",
       "1 2021-11-04 16:32:00+00:00        0.0  0.2571   -0.017352\n",
       "2 2021-11-05 13:37:00+00:00        0.0  0.2630    0.022689\n",
       "3 2021-11-05 15:39:00+00:00       -1.0  0.2598   -0.012242\n",
       "4 2021-11-08 14:44:00+00:00        1.0  0.2761    0.060851\n",
       "5 2021-11-08 20:00:00+00:00        0.0  0.2815    0.019369"
      ]
     },
     "execution_count": 89,
     "metadata": {},
     "output_type": "execute_result"
    }
   ],
   "source": [
    "#Merged News data\n",
    "data = read_file(f\"{C.processed_data_dir}final_df.csv\")\n",
    "#Doge price data\n",
    "doge_price = read_file(f\"{C.clean_data_dir}doge_price.parquet\").rename({\"Date\":\"date\"}, axis = 1)\n",
    "#Sentiment data is the tesla news sentiment data\n",
    "#Getting the sentiment data for the analysis\n",
    "sentiment_data = data[(data[\"Source\"] == \"Crypto_News\") | (data[\"Source\"] == \"Tweet\") ]\n",
    "\n",
    "merged_df = process_and_merge_data_continous_price(sentiment_data, doge_price)\n",
    "\n",
    "#Calculating log returns and then inspecting the return dataframe \n",
    "intermediate_data = calculate_log_returns(merged_df,'Open')\n",
    "intermediate_data.head()"
   ]
  },
  {
   "cell_type": "code",
   "execution_count": 90,
   "metadata": {},
   "outputs": [],
   "source": [
    "write_file(intermediate_data,f\"{C.processed_data_dir}input_df_analysis_3(Crypto_News+Tweets_on_Doge_Price).parquet\")"
   ]
  },
  {
   "cell_type": "code",
   "execution_count": 91,
   "metadata": {},
   "outputs": [
    {
     "name": "stderr",
     "output_type": "stream",
     "text": [
      "Rolling Calibration (One Bar): 100%|██████████| 13962/13962 [1:44:30<00:00,  2.23it/s]\n"
     ]
    }
   ],
   "source": [
    "# Example usage:\n",
    "transformations = []  # if you have extra steps to do outside the param search\n",
    "initial_params = {\n",
    "    'gamma': 0.00015,\n",
    "    'beta': 0.3,\n",
    "    'delta': 1,\n",
    "    'lambda': 30,\n",
    "    'alpha': 0.1\n",
    "}\n",
    "\n",
    "summary_df_3 = rolling_calibration_single_bar_summary(\n",
    "    data=intermediate_data,\n",
    "    transformations=transformations,\n",
    "    initial_params=initial_params,\n",
    "    gamma_values = [0.0003,0.001],\n",
    "    beta_values = [0.3,0.7],\n",
    "    delta_values = [5,10],\n",
    "    lambda_values = [30,60],\n",
    "    alpha_values = [0.1,0.5],\n",
    "    window_size=1000,\n",
    "    step_size=1,\n",
    "    train_ratio=0.6,\n",
    "    val_ratio=0.2,\n",
    "    test_ratio=0.2,\n",
    "    optimize_params_func=optimize_params_func_with_parallelization\n",
    ")"
   ]
  },
  {
   "cell_type": "code",
   "execution_count": 92,
   "metadata": {},
   "outputs": [
    {
     "data": {
      "text/html": [
       "<div>\n",
       "<style scoped>\n",
       "    .dataframe tbody tr th:only-of-type {\n",
       "        vertical-align: middle;\n",
       "    }\n",
       "\n",
       "    .dataframe tbody tr th {\n",
       "        vertical-align: top;\n",
       "    }\n",
       "\n",
       "    .dataframe thead th {\n",
       "        text-align: right;\n",
       "    }\n",
       "</style>\n",
       "<table border=\"1\" class=\"dataframe\">\n",
       "  <thead>\n",
       "    <tr style=\"text-align: right;\">\n",
       "      <th></th>\n",
       "      <th>start_idx</th>\n",
       "      <th>best_params</th>\n",
       "      <th>best_val_sharpe</th>\n",
       "      <th>test_sharpe</th>\n",
       "      <th>test_mean_return</th>\n",
       "      <th>test_cum_return</th>\n",
       "      <th>last_time_step_return</th>\n",
       "    </tr>\n",
       "  </thead>\n",
       "  <tbody>\n",
       "    <tr>\n",
       "      <th>0</th>\n",
       "      <td>0</td>\n",
       "      <td>{'gamma': 0.0003, 'beta': 0.3, 'delta': 5, 'la...</td>\n",
       "      <td>0.080945</td>\n",
       "      <td>0.023112</td>\n",
       "      <td>0.000060</td>\n",
       "      <td>0.011356</td>\n",
       "      <td>1.0</td>\n",
       "    </tr>\n",
       "    <tr>\n",
       "      <th>1</th>\n",
       "      <td>1</td>\n",
       "      <td>{'gamma': 0.0003, 'beta': 0.3, 'delta': 5, 'la...</td>\n",
       "      <td>0.124696</td>\n",
       "      <td>0.023112</td>\n",
       "      <td>0.000060</td>\n",
       "      <td>0.011356</td>\n",
       "      <td>1.0</td>\n",
       "    </tr>\n",
       "    <tr>\n",
       "      <th>2</th>\n",
       "      <td>2</td>\n",
       "      <td>{'gamma': 0.0003, 'beta': 0.3, 'delta': 5, 'la...</td>\n",
       "      <td>0.124696</td>\n",
       "      <td>0.025968</td>\n",
       "      <td>0.000067</td>\n",
       "      <td>0.012841</td>\n",
       "      <td>1.0</td>\n",
       "    </tr>\n",
       "    <tr>\n",
       "      <th>3</th>\n",
       "      <td>3</td>\n",
       "      <td>{'gamma': 0.0003, 'beta': 0.3, 'delta': 5, 'la...</td>\n",
       "      <td>0.124696</td>\n",
       "      <td>0.025968</td>\n",
       "      <td>0.000067</td>\n",
       "      <td>0.012841</td>\n",
       "      <td>1.0</td>\n",
       "    </tr>\n",
       "    <tr>\n",
       "      <th>4</th>\n",
       "      <td>4</td>\n",
       "      <td>{'gamma': 0.0003, 'beta': 0.3, 'delta': 5, 'la...</td>\n",
       "      <td>0.124696</td>\n",
       "      <td>0.007741</td>\n",
       "      <td>0.000019</td>\n",
       "      <td>0.003247</td>\n",
       "      <td>1.0</td>\n",
       "    </tr>\n",
       "  </tbody>\n",
       "</table>\n",
       "</div>"
      ],
      "text/plain": [
       "   start_idx                                        best_params  \\\n",
       "0          0  {'gamma': 0.0003, 'beta': 0.3, 'delta': 5, 'la...   \n",
       "1          1  {'gamma': 0.0003, 'beta': 0.3, 'delta': 5, 'la...   \n",
       "2          2  {'gamma': 0.0003, 'beta': 0.3, 'delta': 5, 'la...   \n",
       "3          3  {'gamma': 0.0003, 'beta': 0.3, 'delta': 5, 'la...   \n",
       "4          4  {'gamma': 0.0003, 'beta': 0.3, 'delta': 5, 'la...   \n",
       "\n",
       "   best_val_sharpe  test_sharpe  test_mean_return  test_cum_return  \\\n",
       "0         0.080945     0.023112          0.000060         0.011356   \n",
       "1         0.124696     0.023112          0.000060         0.011356   \n",
       "2         0.124696     0.025968          0.000067         0.012841   \n",
       "3         0.124696     0.025968          0.000067         0.012841   \n",
       "4         0.124696     0.007741          0.000019         0.003247   \n",
       "\n",
       "   last_time_step_return  \n",
       "0                    1.0  \n",
       "1                    1.0  \n",
       "2                    1.0  \n",
       "3                    1.0  \n",
       "4                    1.0  "
      ]
     },
     "execution_count": 92,
     "metadata": {},
     "output_type": "execute_result"
    }
   ],
   "source": [
    "summary_df_3.head()"
   ]
  },
  {
   "cell_type": "code",
   "execution_count": 93,
   "metadata": {},
   "outputs": [],
   "source": [
    "write_file(summary_df_3, f\"{C.processed_data_dir}ESS_summary_df_analysis_3(Crypto_News+Tweets_on_Doge_Price).parquet\")"
   ]
  },
  {
   "cell_type": "markdown",
   "metadata": {},
   "source": [
    "## Fourth Analysis: **Elon's Tweets, Crypto NEWS and TESLA NEWS on DOGE**"
   ]
  },
  {
   "cell_type": "code",
   "execution_count": 94,
   "metadata": {},
   "outputs": [
    {
     "name": "stderr",
     "output_type": "stream",
     "text": [
      "c:\\Users\\floyd\\Desktop\\financial-big-data-project\\utils\\helpers.py:63: FutureWarning: 'T' is deprecated and will be removed in a future version, please use 'min' instead.\n",
      "  sentiment_data['date'] = sentiment_data['date'].dt.ceil('T')  # 'T' stands for minute\n"
     ]
    },
    {
     "data": {
      "text/html": [
       "<div>\n",
       "<style scoped>\n",
       "    .dataframe tbody tr th:only-of-type {\n",
       "        vertical-align: middle;\n",
       "    }\n",
       "\n",
       "    .dataframe tbody tr th {\n",
       "        vertical-align: top;\n",
       "    }\n",
       "\n",
       "    .dataframe thead th {\n",
       "        text-align: right;\n",
       "    }\n",
       "</style>\n",
       "<table border=\"1\" class=\"dataframe\">\n",
       "  <thead>\n",
       "    <tr style=\"text-align: right;\">\n",
       "      <th></th>\n",
       "      <th>date</th>\n",
       "      <th>Sentiment</th>\n",
       "      <th>Open</th>\n",
       "      <th>Log_Return</th>\n",
       "    </tr>\n",
       "  </thead>\n",
       "  <tbody>\n",
       "    <tr>\n",
       "      <th>294</th>\n",
       "      <td>2021-11-04 16:32:00+00:00</td>\n",
       "      <td>0.0</td>\n",
       "      <td>0.2571</td>\n",
       "      <td>-0.017352</td>\n",
       "    </tr>\n",
       "    <tr>\n",
       "      <th>295</th>\n",
       "      <td>2021-11-05 13:37:00+00:00</td>\n",
       "      <td>0.0</td>\n",
       "      <td>0.2630</td>\n",
       "      <td>0.022689</td>\n",
       "    </tr>\n",
       "    <tr>\n",
       "      <th>296</th>\n",
       "      <td>2021-11-05 15:39:00+00:00</td>\n",
       "      <td>-1.0</td>\n",
       "      <td>0.2598</td>\n",
       "      <td>-0.012242</td>\n",
       "    </tr>\n",
       "    <tr>\n",
       "      <th>297</th>\n",
       "      <td>2021-11-08 14:44:00+00:00</td>\n",
       "      <td>1.0</td>\n",
       "      <td>0.2761</td>\n",
       "      <td>0.060851</td>\n",
       "    </tr>\n",
       "    <tr>\n",
       "      <th>298</th>\n",
       "      <td>2021-11-08 20:00:00+00:00</td>\n",
       "      <td>0.0</td>\n",
       "      <td>0.2815</td>\n",
       "      <td>0.019369</td>\n",
       "    </tr>\n",
       "  </tbody>\n",
       "</table>\n",
       "</div>"
      ],
      "text/plain": [
       "                         date  Sentiment    Open  Log_Return\n",
       "294 2021-11-04 16:32:00+00:00        0.0  0.2571   -0.017352\n",
       "295 2021-11-05 13:37:00+00:00        0.0  0.2630    0.022689\n",
       "296 2021-11-05 15:39:00+00:00       -1.0  0.2598   -0.012242\n",
       "297 2021-11-08 14:44:00+00:00        1.0  0.2761    0.060851\n",
       "298 2021-11-08 20:00:00+00:00        0.0  0.2815    0.019369"
      ]
     },
     "execution_count": 94,
     "metadata": {},
     "output_type": "execute_result"
    }
   ],
   "source": [
    "#Merged News data\n",
    "data = read_file(f\"{C.processed_data_dir}final_df.csv\")\n",
    "#Doge price data\n",
    "doge_price = read_file(f\"{C.clean_data_dir}doge_price.parquet\").rename({\"Date\":\"date\"}, axis = 1)\n",
    "#Sentiment data is the tesla news sentiment data\n",
    "#Getting the sentiment data for the analysis\n",
    "sentiment_data = data\n",
    "\n",
    "merged_df = process_and_merge_data_continous_price(sentiment_data, doge_price)\n",
    "\n",
    "#Calculating log returns and then inspecting the return dataframe \n",
    "intermediate_data = calculate_log_returns(merged_df,'Open')\n",
    "intermediate_data.head()"
   ]
  },
  {
   "cell_type": "code",
   "execution_count": 95,
   "metadata": {},
   "outputs": [],
   "source": [
    "write_file(intermediate_data,f\"{C.processed_data_dir}input_df_analysis_4(Crypto_News+Tweets+Tesla_News_on_Doge_Price).parquet\")"
   ]
  },
  {
   "cell_type": "code",
   "execution_count": 96,
   "metadata": {},
   "outputs": [
    {
     "name": "stderr",
     "output_type": "stream",
     "text": [
      "Rolling Calibration (One Bar): 100%|██████████| 14539/14539 [1:50:41<00:00,  2.19it/s]\n"
     ]
    }
   ],
   "source": [
    "# Example usage:\n",
    "transformations = []  # if you have extra steps to do outside the param search\n",
    "initial_params = {\n",
    "    'gamma': 0.00015,\n",
    "    'beta': 0.3,\n",
    "    'delta': 1,\n",
    "    'lambda': 30,\n",
    "    'alpha': 0.1\n",
    "}\n",
    "\n",
    "summary_df_4 = rolling_calibration_single_bar_summary(\n",
    "    data=intermediate_data,\n",
    "    transformations=transformations,\n",
    "    initial_params=initial_params,\n",
    "    gamma_values = [0.0003,0.001],\n",
    "    beta_values = [0.3,0.7],\n",
    "    delta_values = [5,10],\n",
    "    lambda_values = [30,60],\n",
    "    alpha_values = [0.1,0.5],\n",
    "    window_size=1000,\n",
    "    step_size=1,\n",
    "    train_ratio=0.6,\n",
    "    val_ratio=0.2,\n",
    "    test_ratio=0.2,\n",
    "    optimize_params_func=optimize_params_func_with_parallelization\n",
    ")"
   ]
  },
  {
   "cell_type": "code",
   "execution_count": 97,
   "metadata": {},
   "outputs": [
    {
     "data": {
      "text/html": [
       "<div>\n",
       "<style scoped>\n",
       "    .dataframe tbody tr th:only-of-type {\n",
       "        vertical-align: middle;\n",
       "    }\n",
       "\n",
       "    .dataframe tbody tr th {\n",
       "        vertical-align: top;\n",
       "    }\n",
       "\n",
       "    .dataframe thead th {\n",
       "        text-align: right;\n",
       "    }\n",
       "</style>\n",
       "<table border=\"1\" class=\"dataframe\">\n",
       "  <thead>\n",
       "    <tr style=\"text-align: right;\">\n",
       "      <th></th>\n",
       "      <th>start_idx</th>\n",
       "      <th>best_params</th>\n",
       "      <th>best_val_sharpe</th>\n",
       "      <th>test_sharpe</th>\n",
       "      <th>test_mean_return</th>\n",
       "      <th>test_cum_return</th>\n",
       "      <th>last_time_step_return</th>\n",
       "    </tr>\n",
       "  </thead>\n",
       "  <tbody>\n",
       "    <tr>\n",
       "      <th>0</th>\n",
       "      <td>0</td>\n",
       "      <td>{'gamma': 0.0003, 'beta': 0.3, 'delta': 5, 'la...</td>\n",
       "      <td>0.080945</td>\n",
       "      <td>0.023112</td>\n",
       "      <td>0.000060</td>\n",
       "      <td>0.011356</td>\n",
       "      <td>1.0</td>\n",
       "    </tr>\n",
       "    <tr>\n",
       "      <th>1</th>\n",
       "      <td>1</td>\n",
       "      <td>{'gamma': 0.0003, 'beta': 0.3, 'delta': 5, 'la...</td>\n",
       "      <td>0.124696</td>\n",
       "      <td>0.023112</td>\n",
       "      <td>0.000060</td>\n",
       "      <td>0.011356</td>\n",
       "      <td>1.0</td>\n",
       "    </tr>\n",
       "    <tr>\n",
       "      <th>2</th>\n",
       "      <td>2</td>\n",
       "      <td>{'gamma': 0.0003, 'beta': 0.3, 'delta': 5, 'la...</td>\n",
       "      <td>0.124696</td>\n",
       "      <td>0.025968</td>\n",
       "      <td>0.000067</td>\n",
       "      <td>0.012841</td>\n",
       "      <td>1.0</td>\n",
       "    </tr>\n",
       "    <tr>\n",
       "      <th>3</th>\n",
       "      <td>3</td>\n",
       "      <td>{'gamma': 0.0003, 'beta': 0.3, 'delta': 5, 'la...</td>\n",
       "      <td>0.124696</td>\n",
       "      <td>0.025968</td>\n",
       "      <td>0.000067</td>\n",
       "      <td>0.012841</td>\n",
       "      <td>1.0</td>\n",
       "    </tr>\n",
       "    <tr>\n",
       "      <th>4</th>\n",
       "      <td>4</td>\n",
       "      <td>{'gamma': 0.0003, 'beta': 0.3, 'delta': 5, 'la...</td>\n",
       "      <td>0.124696</td>\n",
       "      <td>0.007741</td>\n",
       "      <td>0.000019</td>\n",
       "      <td>0.003247</td>\n",
       "      <td>1.0</td>\n",
       "    </tr>\n",
       "  </tbody>\n",
       "</table>\n",
       "</div>"
      ],
      "text/plain": [
       "   start_idx                                        best_params  \\\n",
       "0          0  {'gamma': 0.0003, 'beta': 0.3, 'delta': 5, 'la...   \n",
       "1          1  {'gamma': 0.0003, 'beta': 0.3, 'delta': 5, 'la...   \n",
       "2          2  {'gamma': 0.0003, 'beta': 0.3, 'delta': 5, 'la...   \n",
       "3          3  {'gamma': 0.0003, 'beta': 0.3, 'delta': 5, 'la...   \n",
       "4          4  {'gamma': 0.0003, 'beta': 0.3, 'delta': 5, 'la...   \n",
       "\n",
       "   best_val_sharpe  test_sharpe  test_mean_return  test_cum_return  \\\n",
       "0         0.080945     0.023112          0.000060         0.011356   \n",
       "1         0.124696     0.023112          0.000060         0.011356   \n",
       "2         0.124696     0.025968          0.000067         0.012841   \n",
       "3         0.124696     0.025968          0.000067         0.012841   \n",
       "4         0.124696     0.007741          0.000019         0.003247   \n",
       "\n",
       "   last_time_step_return  \n",
       "0                    1.0  \n",
       "1                    1.0  \n",
       "2                    1.0  \n",
       "3                    1.0  \n",
       "4                    1.0  "
      ]
     },
     "execution_count": 97,
     "metadata": {},
     "output_type": "execute_result"
    }
   ],
   "source": [
    "summary_df_4.head()"
   ]
  },
  {
   "cell_type": "code",
   "execution_count": 98,
   "metadata": {},
   "outputs": [],
   "source": [
    "write_file(summary_df_4, f\"{C.processed_data_dir}ESS_summary_df_analysis_4(Crypto_News+Tweets+Tesla_News_on_Doge_Price).parquet\")"
   ]
  },
  {
   "cell_type": "code",
   "execution_count": 105,
   "metadata": {},
   "outputs": [],
   "source": [
    "doge_price = read_file(f\"{C.clean_data_dir}doge_price.parquet\")"
   ]
  },
  {
   "cell_type": "code",
   "execution_count": 106,
   "metadata": {},
   "outputs": [
    {
     "data": {
      "text/html": [
       "<div>\n",
       "<style scoped>\n",
       "    .dataframe tbody tr th:only-of-type {\n",
       "        vertical-align: middle;\n",
       "    }\n",
       "\n",
       "    .dataframe tbody tr th {\n",
       "        vertical-align: top;\n",
       "    }\n",
       "\n",
       "    .dataframe thead th {\n",
       "        text-align: right;\n",
       "    }\n",
       "</style>\n",
       "<table border=\"1\" class=\"dataframe\">\n",
       "  <thead>\n",
       "    <tr style=\"text-align: right;\">\n",
       "      <th></th>\n",
       "      <th>Date</th>\n",
       "      <th>Open</th>\n",
       "    </tr>\n",
       "  </thead>\n",
       "  <tbody>\n",
       "    <tr>\n",
       "      <th>0</th>\n",
       "      <td>2021-11-04 00:00:00+00:00</td>\n",
       "      <td>0.26890</td>\n",
       "    </tr>\n",
       "    <tr>\n",
       "      <th>1</th>\n",
       "      <td>2021-11-04 00:01:00+00:00</td>\n",
       "      <td>0.26910</td>\n",
       "    </tr>\n",
       "    <tr>\n",
       "      <th>2</th>\n",
       "      <td>2021-11-04 00:02:00+00:00</td>\n",
       "      <td>0.26970</td>\n",
       "    </tr>\n",
       "    <tr>\n",
       "      <th>3</th>\n",
       "      <td>2021-11-04 00:03:00+00:00</td>\n",
       "      <td>0.26980</td>\n",
       "    </tr>\n",
       "    <tr>\n",
       "      <th>4</th>\n",
       "      <td>2021-11-04 00:04:00+00:00</td>\n",
       "      <td>0.26950</td>\n",
       "    </tr>\n",
       "    <tr>\n",
       "      <th>...</th>\n",
       "      <td>...</td>\n",
       "      <td>...</td>\n",
       "    </tr>\n",
       "    <tr>\n",
       "      <th>1133197</th>\n",
       "      <td>2023-12-30 23:56:00+00:00</td>\n",
       "      <td>0.09004</td>\n",
       "    </tr>\n",
       "    <tr>\n",
       "      <th>1133198</th>\n",
       "      <td>2023-12-30 23:57:00+00:00</td>\n",
       "      <td>0.09005</td>\n",
       "    </tr>\n",
       "    <tr>\n",
       "      <th>1133199</th>\n",
       "      <td>2023-12-30 23:58:00+00:00</td>\n",
       "      <td>0.09004</td>\n",
       "    </tr>\n",
       "    <tr>\n",
       "      <th>1133200</th>\n",
       "      <td>2023-12-30 23:59:00+00:00</td>\n",
       "      <td>0.08998</td>\n",
       "    </tr>\n",
       "    <tr>\n",
       "      <th>1133201</th>\n",
       "      <td>2023-12-31 00:00:00+00:00</td>\n",
       "      <td>0.09000</td>\n",
       "    </tr>\n",
       "  </tbody>\n",
       "</table>\n",
       "<p>1133202 rows × 2 columns</p>\n",
       "</div>"
      ],
      "text/plain": [
       "                             Date     Open\n",
       "0       2021-11-04 00:00:00+00:00  0.26890\n",
       "1       2021-11-04 00:01:00+00:00  0.26910\n",
       "2       2021-11-04 00:02:00+00:00  0.26970\n",
       "3       2021-11-04 00:03:00+00:00  0.26980\n",
       "4       2021-11-04 00:04:00+00:00  0.26950\n",
       "...                           ...      ...\n",
       "1133197 2023-12-30 23:56:00+00:00  0.09004\n",
       "1133198 2023-12-30 23:57:00+00:00  0.09005\n",
       "1133199 2023-12-30 23:58:00+00:00  0.09004\n",
       "1133200 2023-12-30 23:59:00+00:00  0.08998\n",
       "1133201 2023-12-31 00:00:00+00:00  0.09000\n",
       "\n",
       "[1133202 rows x 2 columns]"
      ]
     },
     "execution_count": 106,
     "metadata": {},
     "output_type": "execute_result"
    }
   ],
   "source": [
    "doge_price"
   ]
  },
  {
   "cell_type": "markdown",
   "metadata": {},
   "source": [
    "### Result Visualization"
   ]
  },
  {
   "cell_type": "code",
   "execution_count": 120,
   "metadata": {},
   "outputs": [],
   "source": [
    "#Read the summary dataframes of the strategies\n",
    "strategy_1_input = read_file(f\"{C.processed_data_dir}input_df_analysis_1(Tesla_News_on_Tesla_Price).parquet\")\n",
    "strategy_1_output = read_file(f\"{C.processed_data_dir}summary_df_analysis_1(Tesla_News_on_Tesla_Price).parquet\")\n",
    "tsla_price = read_file(f\"{C.clean_data_dir}tesla_quotes.csv\")"
   ]
  },
  {
   "cell_type": "code",
   "execution_count": 123,
   "metadata": {},
   "outputs": [
    {
     "name": "stderr",
     "output_type": "stream",
     "text": [
      "c:\\Users\\floyd\\Desktop\\financial-big-data-project\\utils\\visualization.py:32: SettingWithCopyWarning: \n",
      "A value is trying to be set on a copy of a slice from a DataFrame.\n",
      "Try using .loc[row_indexer,col_indexer] = value instead\n",
      "\n",
      "See the caveats in the documentation: https://pandas.pydata.org/pandas-docs/stable/user_guide/indexing.html#returning-a-view-versus-a-copy\n",
      "  benchmark[\"Log_return\"] = np.log(benchmark['Close']/benchmark['Close'].shift(1)).fillna(0)\n",
      "c:\\Users\\floyd\\Desktop\\financial-big-data-project\\utils\\visualization.py:33: SettingWithCopyWarning: \n",
      "A value is trying to be set on a copy of a slice from a DataFrame.\n",
      "Try using .loc[row_indexer,col_indexer] = value instead\n",
      "\n",
      "See the caveats in the documentation: https://pandas.pydata.org/pandas-docs/stable/user_guide/indexing.html#returning-a-view-versus-a-copy\n",
      "  benchmark['benmark_cumulative_return'] = (benchmark['Log_return']+1).cumprod()\n"
     ]
    },
    {
     "data": {
      "image/png": "[encoded data removed]",
      "text/plain": [
       "<Figure size 640x480 with 1 Axes>"
      ]
     },
     "metadata": {},
     "output_type": "display_data"
    }
   ],
   "source": [
    "plot_transformed_cumulative_return(strategy_1_input,strategy_1_output,\"Tesla_News_on_Tesla_Price\",tsla_price,99,transform_cumulative_returns)"
   ]
  },
  {
   "cell_type": "markdown",
   "metadata": {},
   "source": [
    "From the plot, we can see that the trading strategy for TSLA is not profitable. The reason behind this could be that the quality of the data is not good, while the news mostly are labelled to be released at midnight, causing the signal from the news not being captured by our strategy in time. Moreover, the price data we're currently working with especially with TSLA is daily-frequency data, which results in the delay for our strategy implemetation to catch the immediate impact from the information."
   ]
  },
  {
   "cell_type": "code",
   "execution_count": 115,
   "metadata": {},
   "outputs": [],
   "source": [
    "strategy_2_input = read_file(f\"{C.processed_data_dir}input_df_analysis_2(Crypto_News_on_Doge_Price).parquet\")\n",
    "strategy_2_output = read_file(f\"{C.processed_data_dir}ESS_summary_df_analysis_2(Crypto_News_on_Doge_Price).parquet\")\n",
    "strategy_3_input = read_file(f\"{C.processed_data_dir}input_df_analysis_3(Crypto_News+Tweets_on_Doge_Price).parquet\")\n",
    "strategy_3_output = read_file(f\"{C.processed_data_dir}ESS_summary_df_analysis_3(Crypto_News+Tweets_on_Doge_Price).parquet\")\n",
    "strategy_4_input = read_file(f\"{C.processed_data_dir}input_df_analysis_4(Crypto_News+Tweets+Tesla_News_on_Doge_Price).parquet\")\n",
    "strategy_4_output = read_file(f\"{C.processed_data_dir}ESS_summary_df_analysis_4(Crypto_News+Tweets+Tesla_News_on_Doge_Price).parquet\")\n",
    "doge_price = read_file(f\"{C.clean_data_dir}doge_price.parquet\")"
   ]
  },
  {
   "cell_type": "code",
   "execution_count": 124,
   "metadata": {},
   "outputs": [
    {
     "name": "stderr",
     "output_type": "stream",
     "text": [
      "c:\\Users\\floyd\\Desktop\\financial-big-data-project\\utils\\visualization.py:104: SettingWithCopyWarning: \n",
      "A value is trying to be set on a copy of a slice from a DataFrame.\n",
      "Try using .loc[row_indexer,col_indexer] = value instead\n",
      "\n",
      "See the caveats in the documentation: https://pandas.pydata.org/pandas-docs/stable/user_guide/indexing.html#returning-a-view-versus-a-copy\n",
      "  benchmark_df[\"Log_return\"] = np.log(benchmark_df['Open']/benchmark_df['Open'].shift(1)).fillna(0)\n",
      "c:\\Users\\floyd\\Desktop\\financial-big-data-project\\utils\\visualization.py:105: SettingWithCopyWarning: \n",
      "A value is trying to be set on a copy of a slice from a DataFrame.\n",
      "Try using .loc[row_indexer,col_indexer] = value instead\n",
      "\n",
      "See the caveats in the documentation: https://pandas.pydata.org/pandas-docs/stable/user_guide/indexing.html#returning-a-view-versus-a-copy\n",
      "  benchmark_df['benmark_cumulative_return'] = (benchmark_df['Log_return']+1).cumprod()\n"
     ]
    },
    {
     "data": {
      "image/png": "[encoded data removed]",
      "text/plain": [
       "<Figure size 1200x600 with 1 Axes>"
      ]
     },
     "metadata": {},
     "output_type": "display_data"
    }
   ],
   "source": [
    "plot_transformed_backtest_results([strategy_2_input,strategy_3_input,strategy_4_input],\n",
    "                                  [strategy_2_output,strategy_3_output,strategy_4_output],\n",
    "                                  [\"(Crypto_News_on_Doge_Price)\",\"(Crypto_News+Tweets_on_Doge_Price)\",\"(Crypto_News+Tweets+Tesla_News_on_Doge_Price)\"],\n",
    "                                  doge_price,\n",
    "                                  999,\n",
    "                                  transform_cumulative_returns,\n",
    "                                  'Backtest Results for Strategies on Doge Coin')"
   ]
  },
  {
   "cell_type": "markdown",
   "metadata": {},
   "source": [
    "From the result, we can see that with only utiliting the altcoin news to capture the information signal, the strategy provides good results in regards with dogecoin. By combing elon musk's tweets, the strategy pro"
   ]
  }
 ],
 "metadata": {
  "kernelspec": {
   "display_name": "big_data",
   "language": "python",
   "name": "python3"
  },
  "language_info": {
   "codemirror_mode": {
    "name": "ipython",
    "version": 3
   },
   "file_extension": ".py",
   "mimetype": "text/x-python",
   "name": "python",
   "nbconvert_exporter": "python",
   "pygments_lexer": "ipython3",
   "version": "3.12.3"
  }
 },
 "nbformat": 4,
 "nbformat_minor": 2
}
