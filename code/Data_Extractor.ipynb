{
 "cells": [
  {
   "cell_type": "code",
   "execution_count": 12,
   "metadata": {},
   "outputs": [],
   "source": [
    "import pandas as pd\n",
    "import polars as pl"
   ]
  },
  {
   "cell_type": "code",
   "execution_count": 3,
   "metadata": {},
   "outputs": [],
   "source": [
    "#Put a switch that does this\n",
    "input_path = r\"C:\\Users\\Mert\\OneDrive\\Desktop\\Courses\\Financial Big Data\\data\\nasdaq_exteral_data.csv\""
   ]
  },
  {
   "cell_type": "code",
   "execution_count": 4,
   "metadata": {},
   "outputs": [],
   "source": [
    "def filter_and_save_parquet(input_path: str, ticker_list):\n",
    "\n",
    "    # Process each ticker separately to reduce memory usage\n",
    "    for ticker in ticker_list:\n",
    "        # Read and filter data in streaming mode\n",
    "        lazy_df = pl.scan_csv(input_path)\n",
    "        filtered_df = (\n",
    "            lazy_df\n",
    "            .select([\"Date\", \"Stock_symbol\", \"Article_title\"])  # Select specific columns\n",
    "            .filter(pl.col(\"Article_title\").is_not_null())  # Filter out null values\n",
    "            .filter(pl.col(\"Stock_symbol\") == ticker)  # Filter rows matching the ticker\n",
    "            .with_columns(\n",
    "                pl.col(\"Date\").str.to_datetime(\"%Y-%m-%d %H:%M:%S UTC\")  # Convert Date column to datetime\n",
    "            )\n",
    "        )\n",
    "\n",
    "        # Collect filtered data and write directly to a Parquet file\n",
    "        output_path = f\"../raw/data/{ticker}_news.parquet\"\n",
    "        filtered_df.sink_parquet(output_path)  # Stream writing without converting to Pandas\n"
   ]
  },
  {
   "cell_type": "code",
   "execution_count": null,
   "metadata": {},
   "outputs": [],
   "source": [
    "#Applying the function (can extract as many tickers you like)\n",
    "filter_and_save_parquet(input_path = input_path, ticker_list = [\"AAPL\",\"GOOG\",\"TSLA\"])"
   ]
  }
 ],
 "metadata": {
  "kernelspec": {
   "display_name": "base",
   "language": "python",
   "name": "python3"
  },
  "language_info": {
   "codemirror_mode": {
    "name": "ipython",
    "version": 3
   },
   "file_extension": ".py",
   "mimetype": "text/x-python",
   "name": "python",
   "nbconvert_exporter": "python",
   "pygments_lexer": "ipython3",
   "version": "3.11.5"
  }
 },
 "nbformat": 4,
 "nbformat_minor": 2
}
