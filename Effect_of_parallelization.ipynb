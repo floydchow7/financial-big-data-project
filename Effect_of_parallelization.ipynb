{
 "cells": [
  {
   "cell_type": "markdown",
   "metadata": {},
   "source": [
    "# Effect of Parallelization"
   ]
  },
  {
   "cell_type": "code",
   "execution_count": 8,
   "metadata": {},
   "outputs": [
    {
     "name": "stdout",
     "output_type": "stream",
     "text": [
      "The autoreload extension is already loaded. To reload it, use:\n",
      "  %reload_ext autoreload\n"
     ]
    }
   ],
   "source": [
    "from utils.pipelines import *\n",
    "from utils.calibration import *\n",
    "from utils.helpers import *\n",
    "import time\n",
    "%load_ext autoreload\n",
    "%autoreload 2"
   ]
  },
  {
   "cell_type": "code",
   "execution_count": 9,
   "metadata": {},
   "outputs": [
    {
     "name": "stderr",
     "output_type": "stream",
     "text": [
      "c:\\Users\\Mert\\OneDrive\\Desktop\\Courses\\FBG_Org\\financial-big-data-project\\utils\\helpers.py:63: FutureWarning: 'T' is deprecated and will be removed in a future version, please use 'min' instead.\n",
      "  sentiment_data['date'] = sentiment_data['date'].dt.ceil('T')  # 'T' stands for minute\n",
      "c:\\Users\\Mert\\OneDrive\\Desktop\\Courses\\FBG_Org\\financial-big-data-project\\utils\\helpers.py:63: SettingWithCopyWarning: \n",
      "A value is trying to be set on a copy of a slice from a DataFrame.\n",
      "Try using .loc[row_indexer,col_indexer] = value instead\n",
      "\n",
      "See the caveats in the documentation: https://pandas.pydata.org/pandas-docs/stable/user_guide/indexing.html#returning-a-view-versus-a-copy\n",
      "  sentiment_data['date'] = sentiment_data['date'].dt.ceil('T')  # 'T' stands for minute\n",
      "c:\\Users\\Mert\\OneDrive\\Desktop\\Courses\\FBG_Org\\financial-big-data-project\\utils\\helpers.py:66: SettingWithCopyWarning: \n",
      "A value is trying to be set on a copy of a slice from a DataFrame.\n",
      "Try using .loc[row_indexer,col_indexer] = value instead\n",
      "\n",
      "See the caveats in the documentation: https://pandas.pydata.org/pandas-docs/stable/user_guide/indexing.html#returning-a-view-versus-a-copy\n",
      "  sentiment_data['date'] = sentiment_data['date'].dt.tz_localize('UTC')\n"
     ]
    },
    {
     "data": {
      "text/html": [
       "<div>\n",
       "<style scoped>\n",
       "    .dataframe tbody tr th:only-of-type {\n",
       "        vertical-align: middle;\n",
       "    }\n",
       "\n",
       "    .dataframe tbody tr th {\n",
       "        vertical-align: top;\n",
       "    }\n",
       "\n",
       "    .dataframe thead th {\n",
       "        text-align: right;\n",
       "    }\n",
       "</style>\n",
       "<table border=\"1\" class=\"dataframe\">\n",
       "  <thead>\n",
       "    <tr style=\"text-align: right;\">\n",
       "      <th></th>\n",
       "      <th>Source</th>\n",
       "      <th>date</th>\n",
       "      <th>text</th>\n",
       "      <th>Sentiment</th>\n",
       "      <th>Open</th>\n",
       "      <th>Log_Return</th>\n",
       "    </tr>\n",
       "  </thead>\n",
       "  <tbody>\n",
       "    <tr>\n",
       "      <th>1</th>\n",
       "      <td>Crypto_News</td>\n",
       "      <td>2021-11-04 16:32:00+00:00</td>\n",
       "      <td>'Do you think I'm buying anything at all witho...</td>\n",
       "      <td>0</td>\n",
       "      <td>0.2571</td>\n",
       "      <td>-0.017352</td>\n",
       "    </tr>\n",
       "    <tr>\n",
       "      <th>2</th>\n",
       "      <td>Crypto_News</td>\n",
       "      <td>2021-11-05 13:37:00+00:00</td>\n",
       "      <td>The jury concluded that none of the products s...</td>\n",
       "      <td>0</td>\n",
       "      <td>0.2630</td>\n",
       "      <td>0.022689</td>\n",
       "    </tr>\n",
       "    <tr>\n",
       "      <th>3</th>\n",
       "      <td>Crypto_News</td>\n",
       "      <td>2021-11-05 15:39:00+00:00</td>\n",
       "      <td>Bitcoin (BTC) fell during the day before findi...</td>\n",
       "      <td>-1</td>\n",
       "      <td>0.2598</td>\n",
       "      <td>-0.012242</td>\n",
       "    </tr>\n",
       "    <tr>\n",
       "      <th>4</th>\n",
       "      <td>Crypto_News</td>\n",
       "      <td>2021-11-08 14:44:00+00:00</td>\n",
       "      <td>Crypto market sentiment has continued its upwa...</td>\n",
       "      <td>1</td>\n",
       "      <td>0.2761</td>\n",
       "      <td>0.060851</td>\n",
       "    </tr>\n",
       "    <tr>\n",
       "      <th>5</th>\n",
       "      <td>Crypto_News</td>\n",
       "      <td>2021-11-08 20:00:00+00:00</td>\n",
       "      <td>Here is our weekly collection of digital asset...</td>\n",
       "      <td>0</td>\n",
       "      <td>0.2815</td>\n",
       "      <td>0.019369</td>\n",
       "    </tr>\n",
       "  </tbody>\n",
       "</table>\n",
       "</div>"
      ],
      "text/plain": [
       "        Source                      date  \\\n",
       "1  Crypto_News 2021-11-04 16:32:00+00:00   \n",
       "2  Crypto_News 2021-11-05 13:37:00+00:00   \n",
       "3  Crypto_News 2021-11-05 15:39:00+00:00   \n",
       "4  Crypto_News 2021-11-08 14:44:00+00:00   \n",
       "5  Crypto_News 2021-11-08 20:00:00+00:00   \n",
       "\n",
       "                                                text  Sentiment    Open  \\\n",
       "1  'Do you think I'm buying anything at all witho...          0  0.2571   \n",
       "2  The jury concluded that none of the products s...          0  0.2630   \n",
       "3  Bitcoin (BTC) fell during the day before findi...         -1  0.2598   \n",
       "4  Crypto market sentiment has continued its upwa...          1  0.2761   \n",
       "5  Here is our weekly collection of digital asset...          0  0.2815   \n",
       "\n",
       "   Log_Return  \n",
       "1   -0.017352  \n",
       "2    0.022689  \n",
       "3   -0.012242  \n",
       "4    0.060851  \n",
       "5    0.019369  "
      ]
     },
     "execution_count": 9,
     "metadata": {},
     "output_type": "execute_result"
    }
   ],
   "source": [
    "#Merged News data\n",
    "data = read_file(\"./data/processed/final_df.csv\")\n",
    "#Doge price data\n",
    "doge_price = read_file(\"./data/clean/doge_price.parquet\").rename({\"Date\":\"date\"}, axis = 1)\n",
    "#Sentiment data is the tesla news sentiment data\n",
    "sentiment_data = data[data[\"Source\"] == \"Crypto_News\"]\n",
    "\n",
    "merged_df = process_and_merge_data_continous_price(sentiment_data, doge_price)\n",
    "\n",
    "#Calculating log returns and then inspecting the return dataframe \n",
    "intermediate_data = calculate_log_returns(merged_df,'Open')\n",
    "intermediate_data.head()"
   ]
  },
  {
   "cell_type": "markdown",
   "metadata": {},
   "source": [
    "### **Without Parallelization**"
   ]
  },
  {
   "cell_type": "code",
   "execution_count": 10,
   "metadata": {},
   "outputs": [
    {
     "name": "stderr",
     "output_type": "stream",
     "text": [
      "Rolling Calibration (One Bar): 100%|██████████| 8278/8278 [4:24:44<00:00,  1.92s/it]  "
     ]
    },
    {
     "name": "stdout",
     "output_type": "stream",
     "text": [
      "Function runtime: 15884.42 seconds\n"
     ]
    },
    {
     "name": "stderr",
     "output_type": "stream",
     "text": [
      "\n"
     ]
    }
   ],
   "source": [
    "# Measure the start time\n",
    "start_time = time.time()\n",
    "\n",
    "# Example usage:\n",
    "transformations = []  # if you have extra steps to do outside the param search\n",
    "initial_params = {\n",
    "    'gamma': 0.00015,\n",
    "    'beta': 0.3,\n",
    "    'delta': 1,\n",
    "    'lambda': 30,\n",
    "    'alpha': 0.1\n",
    "}\n",
    "\n",
    "summary_df = rolling_calibration_single_bar_summary(\n",
    "    data=intermediate_data,\n",
    "    transformations=transformations,\n",
    "    initial_params=initial_params,\n",
    "    gamma_values = [0.0003,0.001],\n",
    "    beta_values = [0.3,0.7],\n",
    "    delta_values = [5,10],\n",
    "    lambda_values = [30,60],\n",
    "    alpha_values = [0.1,0.5],\n",
    "    window_size=1000,\n",
    "    step_size=1,\n",
    "    train_ratio=0.6,\n",
    "    val_ratio=0.2,\n",
    "    test_ratio=0.2,\n",
    "    optimize_params_func=optimize_params_func\n",
    ")\n",
    "\n",
    "# Measure the end time\n",
    "end_time = time.time()\n",
    "\n",
    "# Calculate the runtime\n",
    "run_time = end_time - start_time\n",
    "print(f\"Function runtime: {run_time:.2f} seconds\")"
   ]
  },
  {
   "cell_type": "markdown",
   "metadata": {},
   "source": [
    "### **With parallelization**"
   ]
  },
  {
   "cell_type": "code",
   "execution_count": 11,
   "metadata": {},
   "outputs": [
    {
     "name": "stderr",
     "output_type": "stream",
     "text": [
      "c:\\Users\\Mert\\OneDrive\\Desktop\\Courses\\FBG_Org\\financial-big-data-project\\utils\\helpers.py:63: FutureWarning: 'T' is deprecated and will be removed in a future version, please use 'min' instead.\n",
      "  sentiment_data['date'] = sentiment_data['date'].dt.ceil('T')  # 'T' stands for minute\n",
      "c:\\Users\\Mert\\OneDrive\\Desktop\\Courses\\FBG_Org\\financial-big-data-project\\utils\\helpers.py:63: SettingWithCopyWarning: \n",
      "A value is trying to be set on a copy of a slice from a DataFrame.\n",
      "Try using .loc[row_indexer,col_indexer] = value instead\n",
      "\n",
      "See the caveats in the documentation: https://pandas.pydata.org/pandas-docs/stable/user_guide/indexing.html#returning-a-view-versus-a-copy\n",
      "  sentiment_data['date'] = sentiment_data['date'].dt.ceil('T')  # 'T' stands for minute\n",
      "c:\\Users\\Mert\\OneDrive\\Desktop\\Courses\\FBG_Org\\financial-big-data-project\\utils\\helpers.py:66: SettingWithCopyWarning: \n",
      "A value is trying to be set on a copy of a slice from a DataFrame.\n",
      "Try using .loc[row_indexer,col_indexer] = value instead\n",
      "\n",
      "See the caveats in the documentation: https://pandas.pydata.org/pandas-docs/stable/user_guide/indexing.html#returning-a-view-versus-a-copy\n",
      "  sentiment_data['date'] = sentiment_data['date'].dt.tz_localize('UTC')\n"
     ]
    },
    {
     "data": {
      "text/html": [
       "<div>\n",
       "<style scoped>\n",
       "    .dataframe tbody tr th:only-of-type {\n",
       "        vertical-align: middle;\n",
       "    }\n",
       "\n",
       "    .dataframe tbody tr th {\n",
       "        vertical-align: top;\n",
       "    }\n",
       "\n",
       "    .dataframe thead th {\n",
       "        text-align: right;\n",
       "    }\n",
       "</style>\n",
       "<table border=\"1\" class=\"dataframe\">\n",
       "  <thead>\n",
       "    <tr style=\"text-align: right;\">\n",
       "      <th></th>\n",
       "      <th>Source</th>\n",
       "      <th>date</th>\n",
       "      <th>text</th>\n",
       "      <th>Sentiment</th>\n",
       "      <th>Open</th>\n",
       "      <th>Log_Return</th>\n",
       "    </tr>\n",
       "  </thead>\n",
       "  <tbody>\n",
       "    <tr>\n",
       "      <th>1</th>\n",
       "      <td>Crypto_News</td>\n",
       "      <td>2021-11-04 16:32:00+00:00</td>\n",
       "      <td>'Do you think I'm buying anything at all witho...</td>\n",
       "      <td>0</td>\n",
       "      <td>0.2571</td>\n",
       "      <td>-0.017352</td>\n",
       "    </tr>\n",
       "    <tr>\n",
       "      <th>2</th>\n",
       "      <td>Crypto_News</td>\n",
       "      <td>2021-11-05 13:37:00+00:00</td>\n",
       "      <td>The jury concluded that none of the products s...</td>\n",
       "      <td>0</td>\n",
       "      <td>0.2630</td>\n",
       "      <td>0.022689</td>\n",
       "    </tr>\n",
       "    <tr>\n",
       "      <th>3</th>\n",
       "      <td>Crypto_News</td>\n",
       "      <td>2021-11-05 15:39:00+00:00</td>\n",
       "      <td>Bitcoin (BTC) fell during the day before findi...</td>\n",
       "      <td>-1</td>\n",
       "      <td>0.2598</td>\n",
       "      <td>-0.012242</td>\n",
       "    </tr>\n",
       "    <tr>\n",
       "      <th>4</th>\n",
       "      <td>Crypto_News</td>\n",
       "      <td>2021-11-08 14:44:00+00:00</td>\n",
       "      <td>Crypto market sentiment has continued its upwa...</td>\n",
       "      <td>1</td>\n",
       "      <td>0.2761</td>\n",
       "      <td>0.060851</td>\n",
       "    </tr>\n",
       "    <tr>\n",
       "      <th>5</th>\n",
       "      <td>Crypto_News</td>\n",
       "      <td>2021-11-08 20:00:00+00:00</td>\n",
       "      <td>Here is our weekly collection of digital asset...</td>\n",
       "      <td>0</td>\n",
       "      <td>0.2815</td>\n",
       "      <td>0.019369</td>\n",
       "    </tr>\n",
       "  </tbody>\n",
       "</table>\n",
       "</div>"
      ],
      "text/plain": [
       "        Source                      date  \\\n",
       "1  Crypto_News 2021-11-04 16:32:00+00:00   \n",
       "2  Crypto_News 2021-11-05 13:37:00+00:00   \n",
       "3  Crypto_News 2021-11-05 15:39:00+00:00   \n",
       "4  Crypto_News 2021-11-08 14:44:00+00:00   \n",
       "5  Crypto_News 2021-11-08 20:00:00+00:00   \n",
       "\n",
       "                                                text  Sentiment    Open  \\\n",
       "1  'Do you think I'm buying anything at all witho...          0  0.2571   \n",
       "2  The jury concluded that none of the products s...          0  0.2630   \n",
       "3  Bitcoin (BTC) fell during the day before findi...         -1  0.2598   \n",
       "4  Crypto market sentiment has continued its upwa...          1  0.2761   \n",
       "5  Here is our weekly collection of digital asset...          0  0.2815   \n",
       "\n",
       "   Log_Return  \n",
       "1   -0.017352  \n",
       "2    0.022689  \n",
       "3   -0.012242  \n",
       "4    0.060851  \n",
       "5    0.019369  "
      ]
     },
     "execution_count": 11,
     "metadata": {},
     "output_type": "execute_result"
    }
   ],
   "source": [
    "#Merged News data\n",
    "data = read_file(\"./data/processed/final_df.csv\")\n",
    "#Doge price data\n",
    "doge_price = read_file(\"./data/clean/doge_price.parquet\").rename({\"Date\":\"date\"}, axis = 1)\n",
    "#Sentiment data is the tesla news sentiment data\n",
    "sentiment_data = data[data[\"Source\"] == \"Crypto_News\"]\n",
    "\n",
    "merged_df = process_and_merge_data_continous_price(sentiment_data, doge_price)\n",
    "\n",
    "#Calculating log returns and then inspecting the return dataframe \n",
    "intermediate_data = calculate_log_returns(merged_df,'Open')\n",
    "intermediate_data.head()"
   ]
  },
  {
   "cell_type": "code",
   "execution_count": 12,
   "metadata": {},
   "outputs": [
    {
     "name": "stderr",
     "output_type": "stream",
     "text": [
      "Rolling Calibration (One Bar): 100%|██████████| 8278/8278 [45:15<00:00,  3.05it/s]"
     ]
    },
    {
     "name": "stdout",
     "output_type": "stream",
     "text": [
      "Function runtime: 2715.39 seconds\n"
     ]
    },
    {
     "name": "stderr",
     "output_type": "stream",
     "text": [
      "\n"
     ]
    }
   ],
   "source": [
    "# Measure the start time\n",
    "start_time = time.time()\n",
    "\n",
    "# Example usage:\n",
    "transformations = []  # if you have extra steps to do outside the param search\n",
    "initial_params = {\n",
    "    'gamma': 0.00015,\n",
    "    'beta': 0.3,\n",
    "    'delta': 1,\n",
    "    'lambda': 30,\n",
    "    'alpha': 0.1\n",
    "}\n",
    "\n",
    "summary_df = rolling_calibration_single_bar_summary(\n",
    "    data=intermediate_data,\n",
    "    transformations=transformations,\n",
    "    initial_params=initial_params,\n",
    "    gamma_values = [0.0003,0.001],\n",
    "    beta_values = [0.3,0.7],\n",
    "    delta_values = [5,10],\n",
    "    lambda_values = [30,60],\n",
    "    alpha_values = [0.1,0.5],\n",
    "    window_size=1000,\n",
    "    step_size=1,\n",
    "    train_ratio=0.6,\n",
    "    val_ratio=0.2,\n",
    "    test_ratio=0.2,\n",
    "    optimize_params_func=optimize_params_func_with_parallelization\n",
    ")\n",
    "\n",
    "# Measure the end time\n",
    "end_time = time.time()\n",
    "\n",
    "# Calculate the runtime\n",
    "run_time = end_time - start_time\n",
    "print(f\"Function runtime: {run_time:.2f} seconds\")"
   ]
  }
 ],
 "metadata": {
  "kernelspec": {
   "display_name": "base",
   "language": "python",
   "name": "python3"
  },
  "language_info": {
   "codemirror_mode": {
    "name": "ipython",
    "version": 3
   },
   "file_extension": ".py",
   "mimetype": "text/x-python",
   "name": "python",
   "nbconvert_exporter": "python",
   "pygments_lexer": "ipython3",
   "version": "3.11.5"
  }
 },
 "nbformat": 4,
 "nbformat_minor": 2
}
